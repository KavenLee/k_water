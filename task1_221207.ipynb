{
 "cells": [
  {
   "cell_type": "markdown",
   "metadata": {
    "collapsed": false
   },
   "source": [
    "#### 이 대회 핵심은, 주어진 과거 데이터를 통해\n",
    "#### 총 14일(14*24 = 336시간) 미래 336시간 적산차 변화를 예측하여\n",
    "#### 평가 기준 MAE(평균절대오차) 으로 순위를 매긴다.\n",
    "#### MAE는 값이 작을수록 예측값과 실제값이 차이가 없음\n",
    "#### 즉, MAE를 낮추도록 설계해야하는것이 포인트."
   ]
  },
  {
   "cell_type": "markdown",
   "metadata": {},
   "source": [
    "# [라이브러리 불러오기]"
   ]
  },
  {
   "cell_type": "code",
   "execution_count": 204,
   "metadata": {},
   "outputs": [],
   "source": [
    "#import\n",
    "import tensorflow as tf\n",
    "import matplotlib.pyplot as plt\n",
    "import numpy as np\n",
    "import sklearn as sk\n",
    "from tqdm.auto import tqdm\n",
    "from sklearn.preprocessing import FunctionTransformer\n",
    "from sklearn.preprocessing import StandardScaler\n",
    "from keras import layers\n",
    "\n",
    "import warnings\n",
    "import pandas as pd\n",
    "from tqdm.auto import tqdm\n",
    "\n",
    "# 쓸데없는 경고문 출력 끄기\n",
    "warnings.filterwarnings(action=\"ignore\")"
   ]
  },
  {
   "cell_type": "markdown",
   "metadata": {},
   "source": [
    "# [데이터 불러오기]"
   ]
  },
  {
   "cell_type": "code",
   "execution_count": 205,
   "metadata": {},
   "outputs": [],
   "source": [
    "# csv파일 변수에 담기\n",
    "train_data = pd.read_csv(\"data_tr_city.csv\")\n",
    "test_data = pd.read_csv(\"data_ts_city.csv\")"
   ]
  },
  {
   "cell_type": "code",
   "execution_count": 206,
   "metadata": {},
   "outputs": [
    {
     "data": {
      "text/html": [
       "<div>\n",
       "<style scoped>\n",
       "    .dataframe tbody tr th:only-of-type {\n",
       "        vertical-align: middle;\n",
       "    }\n",
       "\n",
       "    .dataframe tbody tr th {\n",
       "        vertical-align: top;\n",
       "    }\n",
       "\n",
       "    .dataframe thead th {\n",
       "        text-align: right;\n",
       "    }\n",
       "</style>\n",
       "<table border=\"1\" class=\"dataframe\">\n",
       "  <thead>\n",
       "    <tr style=\"text-align: right;\">\n",
       "      <th></th>\n",
       "      <th>datetime</th>\n",
       "      <th>구미 혁신도시배수지 유출유량 적산차</th>\n",
       "    </tr>\n",
       "  </thead>\n",
       "  <tbody>\n",
       "    <tr>\n",
       "      <th>0</th>\n",
       "      <td>2017-01-01 01:00:00</td>\n",
       "      <td>138.0</td>\n",
       "    </tr>\n",
       "    <tr>\n",
       "      <th>1</th>\n",
       "      <td>2017-01-01 02:00:00</td>\n",
       "      <td>237.0</td>\n",
       "    </tr>\n",
       "    <tr>\n",
       "      <th>2</th>\n",
       "      <td>2017-01-01 03:00:00</td>\n",
       "      <td>128.0</td>\n",
       "    </tr>\n",
       "    <tr>\n",
       "      <th>3</th>\n",
       "      <td>2017-01-01 04:00:00</td>\n",
       "      <td>14.0</td>\n",
       "    </tr>\n",
       "    <tr>\n",
       "      <th>4</th>\n",
       "      <td>2017-01-01 05:00:00</td>\n",
       "      <td>11.0</td>\n",
       "    </tr>\n",
       "    <tr>\n",
       "      <th>...</th>\n",
       "      <td>...</td>\n",
       "      <td>...</td>\n",
       "    </tr>\n",
       "    <tr>\n",
       "      <th>35058</th>\n",
       "      <td>2020-12-31 19:00:00</td>\n",
       "      <td>328.0</td>\n",
       "    </tr>\n",
       "    <tr>\n",
       "      <th>35059</th>\n",
       "      <td>2020-12-31 20:00:00</td>\n",
       "      <td>347.0</td>\n",
       "    </tr>\n",
       "    <tr>\n",
       "      <th>35060</th>\n",
       "      <td>2020-12-31 21:00:00</td>\n",
       "      <td>335.0</td>\n",
       "    </tr>\n",
       "    <tr>\n",
       "      <th>35061</th>\n",
       "      <td>2020-12-31 22:00:00</td>\n",
       "      <td>141.0</td>\n",
       "    </tr>\n",
       "    <tr>\n",
       "      <th>35062</th>\n",
       "      <td>2020-12-31 23:00:00</td>\n",
       "      <td>112.0</td>\n",
       "    </tr>\n",
       "  </tbody>\n",
       "</table>\n",
       "<p>35063 rows × 2 columns</p>\n",
       "</div>"
      ],
      "text/plain": [
       "                  datetime  구미 혁신도시배수지 유출유량 적산차\n",
       "0      2017-01-01 01:00:00                138.0\n",
       "1      2017-01-01 02:00:00                237.0\n",
       "2      2017-01-01 03:00:00                128.0\n",
       "3      2017-01-01 04:00:00                 14.0\n",
       "4      2017-01-01 05:00:00                 11.0\n",
       "...                    ...                  ...\n",
       "35058  2020-12-31 19:00:00                328.0\n",
       "35059  2020-12-31 20:00:00                347.0\n",
       "35060  2020-12-31 21:00:00                335.0\n",
       "35061  2020-12-31 22:00:00                141.0\n",
       "35062  2020-12-31 23:00:00                112.0\n",
       "\n",
       "[35063 rows x 2 columns]"
      ]
     },
     "execution_count": 206,
     "metadata": {},
     "output_type": "execute_result"
    }
   ],
   "source": [
    "train_data"
   ]
  },
  {
   "cell_type": "markdown",
   "metadata": {
    "collapsed": false
   },
   "source": [
    "\n",
    "\n",
    "일단 현재 train_data가 날짜 형식이 아닌 그냥 갯수 숫자로 지정되어 있는데,\n",
    "분석을 위해 인덱스를 날짜 형식으로 변환\n",
    "'datetime' 칼럼에 날짜 정보가 있으므로 이를 활용\n",
    "인덱스를 datetime 값으로 변경 후 인덱스로 지정. 그리고 datetime 칼럼 삭제\n",
    "칼럼이 '구미 혁신도시배수지 유출유량 적산차' 로 되어있으므로 이를 보기 쉽게 적당히 'value'로 변환"
   ]
  },
  {
   "cell_type": "code",
   "execution_count": 207,
   "metadata": {},
   "outputs": [
    {
     "data": {
      "text/plain": [
       "RangeIndex(start=0, stop=35063, step=1)"
      ]
     },
     "execution_count": 207,
     "metadata": {},
     "output_type": "execute_result"
    }
   ],
   "source": [
    "train_data.index"
   ]
  },
  {
   "cell_type": "code",
   "execution_count": 208,
   "metadata": {},
   "outputs": [],
   "source": [
    "train_data.index = pd.to_datetime(train_data[\"datetime\"], format=\"%Y-%m-%d %H:%M:%S\")"
   ]
  },
  {
   "cell_type": "code",
   "execution_count": 209,
   "metadata": {},
   "outputs": [
    {
     "data": {
      "text/html": [
       "<div>\n",
       "<style scoped>\n",
       "    .dataframe tbody tr th:only-of-type {\n",
       "        vertical-align: middle;\n",
       "    }\n",
       "\n",
       "    .dataframe tbody tr th {\n",
       "        vertical-align: top;\n",
       "    }\n",
       "\n",
       "    .dataframe thead th {\n",
       "        text-align: right;\n",
       "    }\n",
       "</style>\n",
       "<table border=\"1\" class=\"dataframe\">\n",
       "  <thead>\n",
       "    <tr style=\"text-align: right;\">\n",
       "      <th></th>\n",
       "      <th>datetime</th>\n",
       "      <th>구미 혁신도시배수지 유출유량 적산차</th>\n",
       "    </tr>\n",
       "    <tr>\n",
       "      <th>datetime</th>\n",
       "      <th></th>\n",
       "      <th></th>\n",
       "    </tr>\n",
       "  </thead>\n",
       "  <tbody>\n",
       "    <tr>\n",
       "      <th>2017-01-01 01:00:00</th>\n",
       "      <td>2017-01-01 01:00:00</td>\n",
       "      <td>138.0</td>\n",
       "    </tr>\n",
       "    <tr>\n",
       "      <th>2017-01-01 02:00:00</th>\n",
       "      <td>2017-01-01 02:00:00</td>\n",
       "      <td>237.0</td>\n",
       "    </tr>\n",
       "    <tr>\n",
       "      <th>2017-01-01 03:00:00</th>\n",
       "      <td>2017-01-01 03:00:00</td>\n",
       "      <td>128.0</td>\n",
       "    </tr>\n",
       "    <tr>\n",
       "      <th>2017-01-01 04:00:00</th>\n",
       "      <td>2017-01-01 04:00:00</td>\n",
       "      <td>14.0</td>\n",
       "    </tr>\n",
       "    <tr>\n",
       "      <th>2017-01-01 05:00:00</th>\n",
       "      <td>2017-01-01 05:00:00</td>\n",
       "      <td>11.0</td>\n",
       "    </tr>\n",
       "    <tr>\n",
       "      <th>...</th>\n",
       "      <td>...</td>\n",
       "      <td>...</td>\n",
       "    </tr>\n",
       "    <tr>\n",
       "      <th>2020-12-31 19:00:00</th>\n",
       "      <td>2020-12-31 19:00:00</td>\n",
       "      <td>328.0</td>\n",
       "    </tr>\n",
       "    <tr>\n",
       "      <th>2020-12-31 20:00:00</th>\n",
       "      <td>2020-12-31 20:00:00</td>\n",
       "      <td>347.0</td>\n",
       "    </tr>\n",
       "    <tr>\n",
       "      <th>2020-12-31 21:00:00</th>\n",
       "      <td>2020-12-31 21:00:00</td>\n",
       "      <td>335.0</td>\n",
       "    </tr>\n",
       "    <tr>\n",
       "      <th>2020-12-31 22:00:00</th>\n",
       "      <td>2020-12-31 22:00:00</td>\n",
       "      <td>141.0</td>\n",
       "    </tr>\n",
       "    <tr>\n",
       "      <th>2020-12-31 23:00:00</th>\n",
       "      <td>2020-12-31 23:00:00</td>\n",
       "      <td>112.0</td>\n",
       "    </tr>\n",
       "  </tbody>\n",
       "</table>\n",
       "<p>35063 rows × 2 columns</p>\n",
       "</div>"
      ],
      "text/plain": [
       "                                datetime  구미 혁신도시배수지 유출유량 적산차\n",
       "datetime                                                     \n",
       "2017-01-01 01:00:00  2017-01-01 01:00:00                138.0\n",
       "2017-01-01 02:00:00  2017-01-01 02:00:00                237.0\n",
       "2017-01-01 03:00:00  2017-01-01 03:00:00                128.0\n",
       "2017-01-01 04:00:00  2017-01-01 04:00:00                 14.0\n",
       "2017-01-01 05:00:00  2017-01-01 05:00:00                 11.0\n",
       "...                                  ...                  ...\n",
       "2020-12-31 19:00:00  2020-12-31 19:00:00                328.0\n",
       "2020-12-31 20:00:00  2020-12-31 20:00:00                347.0\n",
       "2020-12-31 21:00:00  2020-12-31 21:00:00                335.0\n",
       "2020-12-31 22:00:00  2020-12-31 22:00:00                141.0\n",
       "2020-12-31 23:00:00  2020-12-31 23:00:00                112.0\n",
       "\n",
       "[35063 rows x 2 columns]"
      ]
     },
     "execution_count": 209,
     "metadata": {},
     "output_type": "execute_result"
    }
   ],
   "source": [
    "train_data"
   ]
  },
  {
   "cell_type": "code",
   "execution_count": 210,
   "metadata": {},
   "outputs": [
    {
     "data": {
      "text/html": [
       "<div>\n",
       "<style scoped>\n",
       "    .dataframe tbody tr th:only-of-type {\n",
       "        vertical-align: middle;\n",
       "    }\n",
       "\n",
       "    .dataframe tbody tr th {\n",
       "        vertical-align: top;\n",
       "    }\n",
       "\n",
       "    .dataframe thead th {\n",
       "        text-align: right;\n",
       "    }\n",
       "</style>\n",
       "<table border=\"1\" class=\"dataframe\">\n",
       "  <thead>\n",
       "    <tr style=\"text-align: right;\">\n",
       "      <th></th>\n",
       "      <th>value</th>\n",
       "    </tr>\n",
       "    <tr>\n",
       "      <th>datetime</th>\n",
       "      <th></th>\n",
       "    </tr>\n",
       "  </thead>\n",
       "  <tbody>\n",
       "    <tr>\n",
       "      <th>2017-01-01 01:00:00</th>\n",
       "      <td>138.0</td>\n",
       "    </tr>\n",
       "    <tr>\n",
       "      <th>2017-01-01 02:00:00</th>\n",
       "      <td>237.0</td>\n",
       "    </tr>\n",
       "    <tr>\n",
       "      <th>2017-01-01 03:00:00</th>\n",
       "      <td>128.0</td>\n",
       "    </tr>\n",
       "    <tr>\n",
       "      <th>2017-01-01 04:00:00</th>\n",
       "      <td>14.0</td>\n",
       "    </tr>\n",
       "    <tr>\n",
       "      <th>2017-01-01 05:00:00</th>\n",
       "      <td>11.0</td>\n",
       "    </tr>\n",
       "    <tr>\n",
       "      <th>...</th>\n",
       "      <td>...</td>\n",
       "    </tr>\n",
       "    <tr>\n",
       "      <th>2020-12-31 19:00:00</th>\n",
       "      <td>328.0</td>\n",
       "    </tr>\n",
       "    <tr>\n",
       "      <th>2020-12-31 20:00:00</th>\n",
       "      <td>347.0</td>\n",
       "    </tr>\n",
       "    <tr>\n",
       "      <th>2020-12-31 21:00:00</th>\n",
       "      <td>335.0</td>\n",
       "    </tr>\n",
       "    <tr>\n",
       "      <th>2020-12-31 22:00:00</th>\n",
       "      <td>141.0</td>\n",
       "    </tr>\n",
       "    <tr>\n",
       "      <th>2020-12-31 23:00:00</th>\n",
       "      <td>112.0</td>\n",
       "    </tr>\n",
       "  </tbody>\n",
       "</table>\n",
       "<p>35063 rows × 1 columns</p>\n",
       "</div>"
      ],
      "text/plain": [
       "                     value\n",
       "datetime                  \n",
       "2017-01-01 01:00:00  138.0\n",
       "2017-01-01 02:00:00  237.0\n",
       "2017-01-01 03:00:00  128.0\n",
       "2017-01-01 04:00:00   14.0\n",
       "2017-01-01 05:00:00   11.0\n",
       "...                    ...\n",
       "2020-12-31 19:00:00  328.0\n",
       "2020-12-31 20:00:00  347.0\n",
       "2020-12-31 21:00:00  335.0\n",
       "2020-12-31 22:00:00  141.0\n",
       "2020-12-31 23:00:00  112.0\n",
       "\n",
       "[35063 rows x 1 columns]"
      ]
     },
     "execution_count": 210,
     "metadata": {},
     "output_type": "execute_result"
    }
   ],
   "source": [
    "# datetime 칼럼 삭제\n",
    "train_data = train_data.drop(columns = 'datetime')\n",
    "train_data.columns = ['value']\n",
    "train_data"
   ]
  },
  {
   "cell_type": "markdown",
   "metadata": {},
   "source": [
    "# [데이터 분석]"
   ]
  },
  {
   "cell_type": "code",
   "execution_count": 211,
   "metadata": {},
   "outputs": [
    {
     "name": "stdout",
     "output_type": "stream",
     "text": [
      "<class 'pandas.core.frame.DataFrame'>\n",
      "DatetimeIndex: 35063 entries, 2017-01-01 01:00:00 to 2020-12-31 23:00:00\n",
      "Data columns (total 1 columns):\n",
      " #   Column  Non-Null Count  Dtype  \n",
      "---  ------  --------------  -----  \n",
      " 0   value   35055 non-null  float64\n",
      "dtypes: float64(1)\n",
      "memory usage: 547.9 KB\n"
     ]
    }
   ],
   "source": [
    "train_data.info()"
   ]
  },
  {
   "cell_type": "markdown",
   "metadata": {},
   "source": [
    "non-null로 보아 데이터에 null 값은 없음"
   ]
  },
  {
   "cell_type": "code",
   "execution_count": 212,
   "metadata": {},
   "outputs": [
    {
     "data": {
      "text/html": [
       "<div>\n",
       "<style scoped>\n",
       "    .dataframe tbody tr th:only-of-type {\n",
       "        vertical-align: middle;\n",
       "    }\n",
       "\n",
       "    .dataframe tbody tr th {\n",
       "        vertical-align: top;\n",
       "    }\n",
       "\n",
       "    .dataframe thead th {\n",
       "        text-align: right;\n",
       "    }\n",
       "</style>\n",
       "<table border=\"1\" class=\"dataframe\">\n",
       "  <thead>\n",
       "    <tr style=\"text-align: right;\">\n",
       "      <th></th>\n",
       "      <th>value</th>\n",
       "    </tr>\n",
       "  </thead>\n",
       "  <tbody>\n",
       "    <tr>\n",
       "      <th>count</th>\n",
       "      <td>3.505500e+04</td>\n",
       "    </tr>\n",
       "    <tr>\n",
       "      <th>mean</th>\n",
       "      <td>1.236927e+02</td>\n",
       "    </tr>\n",
       "    <tr>\n",
       "      <th>std</th>\n",
       "      <td>4.342471e+04</td>\n",
       "    </tr>\n",
       "    <tr>\n",
       "      <th>min</th>\n",
       "      <td>-6.093821e+06</td>\n",
       "    </tr>\n",
       "    <tr>\n",
       "      <th>25%</th>\n",
       "      <td>1.030000e+02</td>\n",
       "    </tr>\n",
       "    <tr>\n",
       "      <th>50%</th>\n",
       "      <td>2.170000e+02</td>\n",
       "    </tr>\n",
       "    <tr>\n",
       "      <th>75%</th>\n",
       "      <td>3.460000e+02</td>\n",
       "    </tr>\n",
       "    <tr>\n",
       "      <th>max</th>\n",
       "      <td>4.720655e+06</td>\n",
       "    </tr>\n",
       "  </tbody>\n",
       "</table>\n",
       "</div>"
      ],
      "text/plain": [
       "              value\n",
       "count  3.505500e+04\n",
       "mean   1.236927e+02\n",
       "std    4.342471e+04\n",
       "min   -6.093821e+06\n",
       "25%    1.030000e+02\n",
       "50%    2.170000e+02\n",
       "75%    3.460000e+02\n",
       "max    4.720655e+06"
      ]
     },
     "execution_count": 212,
     "metadata": {},
     "output_type": "execute_result"
    }
   ],
   "source": [
    "train_data.describe()"
   ]
  },
  {
   "cell_type": "markdown",
   "metadata": {},
   "source": [
    "\n",
    "최대값이 4.7 X 10^6^\n",
    "최솟값이 -6 X 10^6^\n",
    "평균은 1.236927e+02\n",
    "\n",
    "단순히 생각해도 적산차 값이 저렇게 높거나 낮을 수 없음\n",
    "*이는 주어진 데이터가 이상하게 수집된 것 -> 처리해야 할 필요가 있다!\n",
    "\n",
    "min, max 값이 평균치에서 매우 크게 튄다. 쉽게 보기위해 시각화 해보자."
   ]
  },
  {
   "cell_type": "code",
   "execution_count": 213,
   "metadata": {},
   "outputs": [
    {
     "data": {
      "text/plain": [
       "<AxesSubplot:xlabel='datetime'>"
      ]
     },
     "execution_count": 213,
     "metadata": {},
     "output_type": "execute_result"
    },
    {
     "data": {
      "image/png": "[encoded data removed]",
      "text/plain": [
       "<Figure size 640x480 with 1 Axes>"
      ]
     },
     "metadata": {},
     "output_type": "display_data"
    }
   ],
   "source": [
    "train_data.plot()"
   ]
  },
  {
   "cell_type": "markdown",
   "metadata": {},
   "source": [
    "시각화해보니 눈에 띄게 이상한 값 3개 정도 보임\n",
    "절대값이 10000 보다 크면 null 값으로 처리하자\n",
    "null 값을 앞 뒤의 평균으로 보간 처리하자."
   ]
  },
  {
   "cell_type": "markdown",
   "metadata": {
    "collapsed": false
   },
   "source": [
    "# [데이터 전처리]"
   ]
  },
  {
   "cell_type": "code",
   "execution_count": 214,
   "metadata": {},
   "outputs": [
    {
     "data": {
      "text/html": [
       "<div>\n",
       "<style scoped>\n",
       "    .dataframe tbody tr th:only-of-type {\n",
       "        vertical-align: middle;\n",
       "    }\n",
       "\n",
       "    .dataframe tbody tr th {\n",
       "        vertical-align: top;\n",
       "    }\n",
       "\n",
       "    .dataframe thead th {\n",
       "        text-align: right;\n",
       "    }\n",
       "</style>\n",
       "<table border=\"1\" class=\"dataframe\">\n",
       "  <thead>\n",
       "    <tr style=\"text-align: right;\">\n",
       "      <th></th>\n",
       "      <th>value</th>\n",
       "    </tr>\n",
       "    <tr>\n",
       "      <th>datetime</th>\n",
       "      <th></th>\n",
       "    </tr>\n",
       "  </thead>\n",
       "  <tbody>\n",
       "    <tr>\n",
       "      <th>2017-03-30 16:00:00</th>\n",
       "      <td>-2584551.0</td>\n",
       "    </tr>\n",
       "    <tr>\n",
       "      <th>2018-05-15 20:00:00</th>\n",
       "      <td>4720655.0</td>\n",
       "    </tr>\n",
       "    <tr>\n",
       "      <th>2019-01-02 15:00:00</th>\n",
       "      <td>-6093821.0</td>\n",
       "    </tr>\n",
       "  </tbody>\n",
       "</table>\n",
       "</div>"
      ],
      "text/plain": [
       "                         value\n",
       "datetime                      \n",
       "2017-03-30 16:00:00 -2584551.0\n",
       "2018-05-15 20:00:00  4720655.0\n",
       "2019-01-02 15:00:00 -6093821.0"
      ]
     },
     "execution_count": 214,
     "metadata": {},
     "output_type": "execute_result"
    }
   ],
   "source": [
    "# train_data의 'value'의 절대값이 10000보다 큰 행의 인덱스를 가져와서 train_data에 마스킹 연산\n",
    "train_data[np.abs(train_data['value']) > 10000]"
   ]
  },
  {
   "cell_type": "markdown",
   "metadata": {
    "collapsed": false
   },
   "source": [
    "해보니 세 곳이 값이 튄다.\n",
    "null 처리하자."
   ]
  },
  {
   "cell_type": "code",
   "execution_count": 215,
   "metadata": {},
   "outputs": [],
   "source": [
    "# 거기에 Null 값 넣음\n",
    "train_data[np.abs(train_data['value']) > 10000] = np.NaN"
   ]
  },
  {
   "cell_type": "code",
   "execution_count": 216,
   "metadata": {},
   "outputs": [
    {
     "data": {
      "text/html": [
       "<div>\n",
       "<style scoped>\n",
       "    .dataframe tbody tr th:only-of-type {\n",
       "        vertical-align: middle;\n",
       "    }\n",
       "\n",
       "    .dataframe tbody tr th {\n",
       "        vertical-align: top;\n",
       "    }\n",
       "\n",
       "    .dataframe thead th {\n",
       "        text-align: right;\n",
       "    }\n",
       "</style>\n",
       "<table border=\"1\" class=\"dataframe\">\n",
       "  <thead>\n",
       "    <tr style=\"text-align: right;\">\n",
       "      <th></th>\n",
       "      <th>value</th>\n",
       "    </tr>\n",
       "    <tr>\n",
       "      <th>datetime</th>\n",
       "      <th></th>\n",
       "    </tr>\n",
       "  </thead>\n",
       "  <tbody>\n",
       "  </tbody>\n",
       "</table>\n",
       "</div>"
      ],
      "text/plain": [
       "Empty DataFrame\n",
       "Columns: [value]\n",
       "Index: []"
      ]
     },
     "execution_count": 216,
     "metadata": {},
     "output_type": "execute_result"
    }
   ],
   "source": [
    "# 다시 확인\n",
    "train_data[np.abs(train_data['value']) > 10000]"
   ]
  },
  {
   "cell_type": "markdown",
   "metadata": {
    "collapsed": false
   },
   "source": [
    "null 처리하고 다시 확인하니 이제 튀는 값 없다.\n",
    "null로 준 값들을 보간처리하자."
   ]
  },
  {
   "cell_type": "code",
   "execution_count": 217,
   "metadata": {},
   "outputs": [],
   "source": [
    "# null 값을 보간처리함 ( interpolate() 메서드 기본값은 앞뒤로 평균처리 )\n",
    "train_data = train_data.interpolate()"
   ]
  },
  {
   "cell_type": "code",
   "execution_count": 218,
   "metadata": {},
   "outputs": [
    {
     "data": {
      "text/html": [
       "<div>\n",
       "<style scoped>\n",
       "    .dataframe tbody tr th:only-of-type {\n",
       "        vertical-align: middle;\n",
       "    }\n",
       "\n",
       "    .dataframe tbody tr th {\n",
       "        vertical-align: top;\n",
       "    }\n",
       "\n",
       "    .dataframe thead th {\n",
       "        text-align: right;\n",
       "    }\n",
       "</style>\n",
       "<table border=\"1\" class=\"dataframe\">\n",
       "  <thead>\n",
       "    <tr style=\"text-align: right;\">\n",
       "      <th></th>\n",
       "      <th>value</th>\n",
       "    </tr>\n",
       "    <tr>\n",
       "      <th>datetime</th>\n",
       "      <th></th>\n",
       "    </tr>\n",
       "  </thead>\n",
       "  <tbody>\n",
       "    <tr>\n",
       "      <th>2017-01-01 01:00:00</th>\n",
       "      <td>138.0</td>\n",
       "    </tr>\n",
       "    <tr>\n",
       "      <th>2017-01-01 02:00:00</th>\n",
       "      <td>237.0</td>\n",
       "    </tr>\n",
       "    <tr>\n",
       "      <th>2017-01-01 03:00:00</th>\n",
       "      <td>128.0</td>\n",
       "    </tr>\n",
       "    <tr>\n",
       "      <th>2017-01-01 04:00:00</th>\n",
       "      <td>14.0</td>\n",
       "    </tr>\n",
       "    <tr>\n",
       "      <th>2017-01-01 05:00:00</th>\n",
       "      <td>11.0</td>\n",
       "    </tr>\n",
       "    <tr>\n",
       "      <th>...</th>\n",
       "      <td>...</td>\n",
       "    </tr>\n",
       "    <tr>\n",
       "      <th>2020-12-31 19:00:00</th>\n",
       "      <td>328.0</td>\n",
       "    </tr>\n",
       "    <tr>\n",
       "      <th>2020-12-31 20:00:00</th>\n",
       "      <td>347.0</td>\n",
       "    </tr>\n",
       "    <tr>\n",
       "      <th>2020-12-31 21:00:00</th>\n",
       "      <td>335.0</td>\n",
       "    </tr>\n",
       "    <tr>\n",
       "      <th>2020-12-31 22:00:00</th>\n",
       "      <td>141.0</td>\n",
       "    </tr>\n",
       "    <tr>\n",
       "      <th>2020-12-31 23:00:00</th>\n",
       "      <td>112.0</td>\n",
       "    </tr>\n",
       "  </tbody>\n",
       "</table>\n",
       "<p>35063 rows × 1 columns</p>\n",
       "</div>"
      ],
      "text/plain": [
       "                     value\n",
       "datetime                  \n",
       "2017-01-01 01:00:00  138.0\n",
       "2017-01-01 02:00:00  237.0\n",
       "2017-01-01 03:00:00  128.0\n",
       "2017-01-01 04:00:00   14.0\n",
       "2017-01-01 05:00:00   11.0\n",
       "...                    ...\n",
       "2020-12-31 19:00:00  328.0\n",
       "2020-12-31 20:00:00  347.0\n",
       "2020-12-31 21:00:00  335.0\n",
       "2020-12-31 22:00:00  141.0\n",
       "2020-12-31 23:00:00  112.0\n",
       "\n",
       "[35063 rows x 1 columns]"
      ]
     },
     "execution_count": 218,
     "metadata": {},
     "output_type": "execute_result"
    }
   ],
   "source": [
    "train_data"
   ]
  },
  {
   "cell_type": "markdown",
   "metadata": {
    "collapsed": false
   },
   "source": [
    "그래프로 시각화 하자."
   ]
  },
  {
   "cell_type": "code",
   "execution_count": 219,
   "metadata": {},
   "outputs": [
    {
     "data": {
      "image/png": "[encoded data removed]",
      "text/plain": [
       "<Figure size 1500x500 with 1 Axes>"
      ]
     },
     "metadata": {},
     "output_type": "display_data"
    }
   ],
   "source": [
    "train_data.plot(figsize = (15, 5)) # 그래프 사이즈 조절\n",
    "plt.show()"
   ]
  },
  {
   "cell_type": "markdown",
   "metadata": {},
   "source": [
    "좀 더 자세히 시각화 해보고 싶으면 %matplotlib qt5 써서 matplotlib 설정 변경 (외부창에서 실행)\n",
    "다시 안에서 보고 싶으면 %matplotlib inline 써서 설정 변경해줘야함 (내부창에서 실행)"
   ]
  },
  {
   "cell_type": "code",
   "execution_count": 220,
   "metadata": {},
   "outputs": [],
   "source": [
    "%matplotlib qt5\n",
    "train_data.plot(figsize = (15, 5))\n",
    "plt.show()"
   ]
  },
  {
   "cell_type": "code",
   "execution_count": 221,
   "metadata": {},
   "outputs": [
    {
     "data": {
      "image/png": "[encoded data removed]",
      "text/plain": [
       "<Figure size 1500x500 with 1 Axes>"
      ]
     },
     "metadata": {},
     "output_type": "display_data"
    }
   ],
   "source": [
    "%matplotlib inline\n",
    "train_data.plot(figsize = (15, 5))\n",
    "plt.show()"
   ]
  },
  {
   "cell_type": "markdown",
   "metadata": {},
   "source": [
    "시간 간격이 정말 모두 다 한시간 단위인가? 확인 해보자\n",
    "3시간 간격 평균, 1일 간격 평균으로 리샘플링 (데이터에서 특정 간격으로 값을 가져옴)"
   ]
  },
  {
   "cell_type": "code",
   "execution_count": 222,
   "metadata": {},
   "outputs": [
    {
     "data": {
      "text/html": [
       "<div>\n",
       "<style scoped>\n",
       "    .dataframe tbody tr th:only-of-type {\n",
       "        vertical-align: middle;\n",
       "    }\n",
       "\n",
       "    .dataframe tbody tr th {\n",
       "        vertical-align: top;\n",
       "    }\n",
       "\n",
       "    .dataframe thead th {\n",
       "        text-align: right;\n",
       "    }\n",
       "</style>\n",
       "<table border=\"1\" class=\"dataframe\">\n",
       "  <thead>\n",
       "    <tr style=\"text-align: right;\">\n",
       "      <th></th>\n",
       "      <th>value</th>\n",
       "    </tr>\n",
       "    <tr>\n",
       "      <th>datetime</th>\n",
       "      <th></th>\n",
       "    </tr>\n",
       "  </thead>\n",
       "  <tbody>\n",
       "    <tr>\n",
       "      <th>2017-01-01 00:00:00</th>\n",
       "      <td>187.500000</td>\n",
       "    </tr>\n",
       "    <tr>\n",
       "      <th>2017-01-01 03:00:00</th>\n",
       "      <td>51.000000</td>\n",
       "    </tr>\n",
       "    <tr>\n",
       "      <th>2017-01-01 06:00:00</th>\n",
       "      <td>69.333333</td>\n",
       "    </tr>\n",
       "    <tr>\n",
       "      <th>2017-01-01 09:00:00</th>\n",
       "      <td>249.666667</td>\n",
       "    </tr>\n",
       "    <tr>\n",
       "      <th>2017-01-01 12:00:00</th>\n",
       "      <td>211.333333</td>\n",
       "    </tr>\n",
       "    <tr>\n",
       "      <th>...</th>\n",
       "      <td>...</td>\n",
       "    </tr>\n",
       "    <tr>\n",
       "      <th>2020-12-31 09:00:00</th>\n",
       "      <td>418.666667</td>\n",
       "    </tr>\n",
       "    <tr>\n",
       "      <th>2020-12-31 12:00:00</th>\n",
       "      <td>285.000000</td>\n",
       "    </tr>\n",
       "    <tr>\n",
       "      <th>2020-12-31 15:00:00</th>\n",
       "      <td>310.333333</td>\n",
       "    </tr>\n",
       "    <tr>\n",
       "      <th>2020-12-31 18:00:00</th>\n",
       "      <td>326.666667</td>\n",
       "    </tr>\n",
       "    <tr>\n",
       "      <th>2020-12-31 21:00:00</th>\n",
       "      <td>196.000000</td>\n",
       "    </tr>\n",
       "  </tbody>\n",
       "</table>\n",
       "<p>11688 rows × 1 columns</p>\n",
       "</div>"
      ],
      "text/plain": [
       "                          value\n",
       "datetime                       \n",
       "2017-01-01 00:00:00  187.500000\n",
       "2017-01-01 03:00:00   51.000000\n",
       "2017-01-01 06:00:00   69.333333\n",
       "2017-01-01 09:00:00  249.666667\n",
       "2017-01-01 12:00:00  211.333333\n",
       "...                         ...\n",
       "2020-12-31 09:00:00  418.666667\n",
       "2020-12-31 12:00:00  285.000000\n",
       "2020-12-31 15:00:00  310.333333\n",
       "2020-12-31 18:00:00  326.666667\n",
       "2020-12-31 21:00:00  196.000000\n",
       "\n",
       "[11688 rows x 1 columns]"
      ]
     },
     "execution_count": 222,
     "metadata": {},
     "output_type": "execute_result"
    }
   ],
   "source": [
    "train_data.resample(\"3H\").mean() # 3시간 간격 평균"
   ]
  },
  {
   "cell_type": "code",
   "execution_count": 223,
   "metadata": {
    "collapsed": false
   },
   "outputs": [
    {
     "data": {
      "text/html": [
       "<div>\n",
       "<style scoped>\n",
       "    .dataframe tbody tr th:only-of-type {\n",
       "        vertical-align: middle;\n",
       "    }\n",
       "\n",
       "    .dataframe tbody tr th {\n",
       "        vertical-align: top;\n",
       "    }\n",
       "\n",
       "    .dataframe thead th {\n",
       "        text-align: right;\n",
       "    }\n",
       "</style>\n",
       "<table border=\"1\" class=\"dataframe\">\n",
       "  <thead>\n",
       "    <tr style=\"text-align: right;\">\n",
       "      <th></th>\n",
       "      <th>value</th>\n",
       "    </tr>\n",
       "    <tr>\n",
       "      <th>datetime</th>\n",
       "      <th></th>\n",
       "    </tr>\n",
       "  </thead>\n",
       "  <tbody>\n",
       "    <tr>\n",
       "      <th>2017-01-01</th>\n",
       "      <td>167.086957</td>\n",
       "    </tr>\n",
       "    <tr>\n",
       "      <th>2017-01-02</th>\n",
       "      <td>181.000000</td>\n",
       "    </tr>\n",
       "    <tr>\n",
       "      <th>2017-01-03</th>\n",
       "      <td>192.500000</td>\n",
       "    </tr>\n",
       "    <tr>\n",
       "      <th>2017-01-04</th>\n",
       "      <td>181.958333</td>\n",
       "    </tr>\n",
       "    <tr>\n",
       "      <th>2017-01-05</th>\n",
       "      <td>173.166667</td>\n",
       "    </tr>\n",
       "    <tr>\n",
       "      <th>...</th>\n",
       "      <td>...</td>\n",
       "    </tr>\n",
       "    <tr>\n",
       "      <th>2020-12-27</th>\n",
       "      <td>233.750000</td>\n",
       "    </tr>\n",
       "    <tr>\n",
       "      <th>2020-12-28</th>\n",
       "      <td>242.166667</td>\n",
       "    </tr>\n",
       "    <tr>\n",
       "      <th>2020-12-29</th>\n",
       "      <td>249.541667</td>\n",
       "    </tr>\n",
       "    <tr>\n",
       "      <th>2020-12-30</th>\n",
       "      <td>286.875000</td>\n",
       "    </tr>\n",
       "    <tr>\n",
       "      <th>2020-12-31</th>\n",
       "      <td>238.708333</td>\n",
       "    </tr>\n",
       "  </tbody>\n",
       "</table>\n",
       "<p>1461 rows × 1 columns</p>\n",
       "</div>"
      ],
      "text/plain": [
       "                 value\n",
       "datetime              \n",
       "2017-01-01  167.086957\n",
       "2017-01-02  181.000000\n",
       "2017-01-03  192.500000\n",
       "2017-01-04  181.958333\n",
       "2017-01-05  173.166667\n",
       "...                ...\n",
       "2020-12-27  233.750000\n",
       "2020-12-28  242.166667\n",
       "2020-12-29  249.541667\n",
       "2020-12-30  286.875000\n",
       "2020-12-31  238.708333\n",
       "\n",
       "[1461 rows x 1 columns]"
      ]
     },
     "execution_count": 223,
     "metadata": {},
     "output_type": "execute_result"
    }
   ],
   "source": [
    "train_data.resample(\"1D\").mean() # 1일 간격 평균"
   ]
  },
  {
   "cell_type": "markdown",
   "metadata": {
    "collapsed": false
   },
   "source": [
    "만약 1시간이 아니라면 1시간 동안의 평균값을 들고 올 수 없으므로 간격이 다른 곳은 null 값으로 변환됨.\n",
    "is null 을 쓰면 null인 곳은 True로 반환됨\n",
    "Ture를 다 더하면 1시간 간격이 아닌 곳이 있는지 없는지 알 수 있다."
   ]
  },
  {
   "cell_type": "code",
   "execution_count": 224,
   "metadata": {
    "collapsed": false
   },
   "outputs": [
    {
     "data": {
      "text/plain": [
       "value    0\n",
       "dtype: int64"
      ]
     },
     "execution_count": 224,
     "metadata": {},
     "output_type": "execute_result"
    }
   ],
   "source": [
    "train_data.resample(\"1H\").mean().isnull().sum()"
   ]
  },
  {
   "cell_type": "markdown",
   "metadata": {
    "collapsed": false
   },
   "source": [
    "적산차는 시간에 관련 있을 것 이므로, 시간에 대한 정보를 제공해야 함.\n",
    "순환하는 값(시간, 날짜 등)은 코사인이나 사인 변환이 간단하고 좋음.\n",
    "데이터의 값이 너무 크기때문에 값의 범위를 평균이 0, 분산이 1이 되도록 변경   <-- 정규분표로 만들어 보자.\n",
    "## 값의 범위가 너무 크면 딥러닝 모델 학습이 불안정하기 때문.\n",
    "## -> 사인파 ,코사인파, 정규분포 변환"
   ]
  },
  {
   "cell_type": "code",
   "execution_count": 225,
   "metadata": {
    "collapsed": false
   },
   "outputs": [],
   "source": [
    "# 값을 사인파로 변환\n",
    "def sin_transformer(period):\n",
    "    return FunctionTransformer(lambda x: np.sin(x / period * 2 * np.pi))\n",
    "\n",
    "#값을 코사인파로 변환\n",
    "def cos_transformer(period):\n",
    "    return FunctionTransformer(lambda x: np.cos(x / period * 2 * np.pi))"
   ]
  },
  {
   "cell_type": "code",
   "execution_count": 226,
   "metadata": {
    "collapsed": false
   },
   "outputs": [
    {
     "data": {
      "text/html": [
       "<div>\n",
       "<style scoped>\n",
       "    .dataframe tbody tr th:only-of-type {\n",
       "        vertical-align: middle;\n",
       "    }\n",
       "\n",
       "    .dataframe tbody tr th {\n",
       "        vertical-align: top;\n",
       "    }\n",
       "\n",
       "    .dataframe thead th {\n",
       "        text-align: right;\n",
       "    }\n",
       "</style>\n",
       "<table border=\"1\" class=\"dataframe\">\n",
       "  <thead>\n",
       "    <tr style=\"text-align: right;\">\n",
       "      <th></th>\n",
       "      <th>value</th>\n",
       "      <th>datetime</th>\n",
       "      <th>day_sin</th>\n",
       "      <th>hour_sin</th>\n",
       "      <th>day_cos</th>\n",
       "      <th>hour_cos</th>\n",
       "    </tr>\n",
       "    <tr>\n",
       "      <th>datetime</th>\n",
       "      <th></th>\n",
       "      <th></th>\n",
       "      <th></th>\n",
       "      <th></th>\n",
       "      <th></th>\n",
       "      <th></th>\n",
       "    </tr>\n",
       "  </thead>\n",
       "  <tbody>\n",
       "    <tr>\n",
       "      <th>2017-01-01 01:00:00</th>\n",
       "      <td>-0.596075</td>\n",
       "      <td>2017-01-01 01:00:00</td>\n",
       "      <td>0.017213</td>\n",
       "      <td>0.258819</td>\n",
       "      <td>0.999852</td>\n",
       "      <td>0.965926</td>\n",
       "    </tr>\n",
       "    <tr>\n",
       "      <th>2017-01-01 02:00:00</th>\n",
       "      <td>0.002208</td>\n",
       "      <td>2017-01-01 02:00:00</td>\n",
       "      <td>0.017213</td>\n",
       "      <td>0.500000</td>\n",
       "      <td>0.999852</td>\n",
       "      <td>0.866025</td>\n",
       "    </tr>\n",
       "    <tr>\n",
       "      <th>2017-01-01 03:00:00</th>\n",
       "      <td>-0.656508</td>\n",
       "      <td>2017-01-01 03:00:00</td>\n",
       "      <td>0.017213</td>\n",
       "      <td>0.707107</td>\n",
       "      <td>0.999852</td>\n",
       "      <td>0.707107</td>\n",
       "    </tr>\n",
       "    <tr>\n",
       "      <th>2017-01-01 04:00:00</th>\n",
       "      <td>-1.345441</td>\n",
       "      <td>2017-01-01 04:00:00</td>\n",
       "      <td>0.017213</td>\n",
       "      <td>0.866025</td>\n",
       "      <td>0.999852</td>\n",
       "      <td>0.500000</td>\n",
       "    </tr>\n",
       "    <tr>\n",
       "      <th>2017-01-01 05:00:00</th>\n",
       "      <td>-1.363570</td>\n",
       "      <td>2017-01-01 05:00:00</td>\n",
       "      <td>0.017213</td>\n",
       "      <td>0.965926</td>\n",
       "      <td>0.999852</td>\n",
       "      <td>0.258819</td>\n",
       "    </tr>\n",
       "    <tr>\n",
       "      <th>...</th>\n",
       "      <td>...</td>\n",
       "      <td>...</td>\n",
       "      <td>...</td>\n",
       "      <td>...</td>\n",
       "      <td>...</td>\n",
       "      <td>...</td>\n",
       "    </tr>\n",
       "    <tr>\n",
       "      <th>2020-12-31 19:00:00</th>\n",
       "      <td>0.552145</td>\n",
       "      <td>2020-12-31 19:00:00</td>\n",
       "      <td>0.017213</td>\n",
       "      <td>-0.965926</td>\n",
       "      <td>0.999852</td>\n",
       "      <td>0.258819</td>\n",
       "    </tr>\n",
       "    <tr>\n",
       "      <th>2020-12-31 20:00:00</th>\n",
       "      <td>0.666968</td>\n",
       "      <td>2020-12-31 20:00:00</td>\n",
       "      <td>0.017213</td>\n",
       "      <td>-0.866025</td>\n",
       "      <td>0.999852</td>\n",
       "      <td>0.500000</td>\n",
       "    </tr>\n",
       "    <tr>\n",
       "      <th>2020-12-31 21:00:00</th>\n",
       "      <td>0.594448</td>\n",
       "      <td>2020-12-31 21:00:00</td>\n",
       "      <td>0.017213</td>\n",
       "      <td>-0.707107</td>\n",
       "      <td>0.999852</td>\n",
       "      <td>0.707107</td>\n",
       "    </tr>\n",
       "    <tr>\n",
       "      <th>2020-12-31 22:00:00</th>\n",
       "      <td>-0.577946</td>\n",
       "      <td>2020-12-31 22:00:00</td>\n",
       "      <td>0.017213</td>\n",
       "      <td>-0.500000</td>\n",
       "      <td>0.999852</td>\n",
       "      <td>0.866025</td>\n",
       "    </tr>\n",
       "    <tr>\n",
       "      <th>2020-12-31 23:00:00</th>\n",
       "      <td>-0.753200</td>\n",
       "      <td>2020-12-31 23:00:00</td>\n",
       "      <td>0.017213</td>\n",
       "      <td>-0.258819</td>\n",
       "      <td>0.999852</td>\n",
       "      <td>0.965926</td>\n",
       "    </tr>\n",
       "  </tbody>\n",
       "</table>\n",
       "<p>35063 rows × 6 columns</p>\n",
       "</div>"
      ],
      "text/plain": [
       "                        value            datetime   day_sin  hour_sin  \\\n",
       "datetime                                                                \n",
       "2017-01-01 01:00:00 -0.596075 2017-01-01 01:00:00  0.017213  0.258819   \n",
       "2017-01-01 02:00:00  0.002208 2017-01-01 02:00:00  0.017213  0.500000   \n",
       "2017-01-01 03:00:00 -0.656508 2017-01-01 03:00:00  0.017213  0.707107   \n",
       "2017-01-01 04:00:00 -1.345441 2017-01-01 04:00:00  0.017213  0.866025   \n",
       "2017-01-01 05:00:00 -1.363570 2017-01-01 05:00:00  0.017213  0.965926   \n",
       "...                       ...                 ...       ...       ...   \n",
       "2020-12-31 19:00:00  0.552145 2020-12-31 19:00:00  0.017213 -0.965926   \n",
       "2020-12-31 20:00:00  0.666968 2020-12-31 20:00:00  0.017213 -0.866025   \n",
       "2020-12-31 21:00:00  0.594448 2020-12-31 21:00:00  0.017213 -0.707107   \n",
       "2020-12-31 22:00:00 -0.577946 2020-12-31 22:00:00  0.017213 -0.500000   \n",
       "2020-12-31 23:00:00 -0.753200 2020-12-31 23:00:00  0.017213 -0.258819   \n",
       "\n",
       "                      day_cos  hour_cos  \n",
       "datetime                                 \n",
       "2017-01-01 01:00:00  0.999852  0.965926  \n",
       "2017-01-01 02:00:00  0.999852  0.866025  \n",
       "2017-01-01 03:00:00  0.999852  0.707107  \n",
       "2017-01-01 04:00:00  0.999852  0.500000  \n",
       "2017-01-01 05:00:00  0.999852  0.258819  \n",
       "...                       ...       ...  \n",
       "2020-12-31 19:00:00  0.999852  0.258819  \n",
       "2020-12-31 20:00:00  0.999852  0.500000  \n",
       "2020-12-31 21:00:00  0.999852  0.707107  \n",
       "2020-12-31 22:00:00  0.999852  0.866025  \n",
       "2020-12-31 23:00:00  0.999852  0.965926  \n",
       "\n",
       "[35063 rows x 6 columns]"
      ]
     },
     "execution_count": 226,
     "metadata": {},
     "output_type": "execute_result"
    }
   ],
   "source": [
    "# datetime 칼럼을 train_data의 인덱스로 변경\n",
    "train_data[\"datetime\"] = train_data.index\n",
    "\n",
    "# day_sin 칼럼을 만들고 거기에 datetime의 날짜 데이터를 365일 형식으로 가져오고 sin 변환\n",
    "train_data[\"day_sin\"] = sin_transformer(365).fit_transform(\n",
    "    train_data[\"datetime\"].dt.dayofyear\n",
    ")\n",
    "\n",
    "# hour_sin 칼럼을 만들고 거기에 datetime의 날짜 데이터를 24시간 형식으로 가져오고 sin 변환\n",
    "train_data[\"hour_sin\"] = sin_transformer(24).fit_transform(\n",
    "    train_data[\"datetime\"].dt.hour\n",
    ")\n",
    "\n",
    "# day_cos 칼럼을 만들고 거기에 datetime의 날짜 데이터를 365일 형식으로 가져오고 cos 변환\n",
    "train_data[\"day_cos\"] = cos_transformer(365).fit_transform(\n",
    "    train_data[\"datetime\"].dt.dayofyear\n",
    ")\n",
    "\n",
    "# hour_cos 칼럼을 만들고 거기에 datetime의 날짜 데이터를 24시간 형식으로 가져오고 cos 변환\n",
    "train_data[\"hour_cos\"] = cos_transformer(24).fit_transform(\n",
    "    train_data[\"datetime\"].dt.hour\n",
    ")\n",
    "\n",
    "\n",
    "\n",
    "# 정규분포로 변환시켜주는 스케일러\n",
    "scaler = StandardScaler()\n",
    "\n",
    "# 'value'칼럼 데이터의 평균과 분산을 구하고 ( StandardScaler.fit() 메서드)\n",
    "scaler.fit(train_data['value'].values.reshape((-1, 1)))\n",
    "\n",
    "# 'value'칼럼 데이터를 정규분포로 변환 ( StandardScaler.transform() 메서드 )\n",
    "train_data['value'] = scaler.transform(train_data['value'].values.reshape((-1, 1)))\n",
    "train_data"
   ]
  },
  {
   "cell_type": "markdown",
   "metadata": {
    "collapsed": false
   },
   "source": []
  },
  {
   "cell_type": "code",
   "execution_count": 227,
   "metadata": {
    "collapsed": false
   },
   "outputs": [
    {
     "data": {
      "text/html": [
       "<div>\n",
       "<style scoped>\n",
       "    .dataframe tbody tr th:only-of-type {\n",
       "        vertical-align: middle;\n",
       "    }\n",
       "\n",
       "    .dataframe tbody tr th {\n",
       "        vertical-align: top;\n",
       "    }\n",
       "\n",
       "    .dataframe thead th {\n",
       "        text-align: right;\n",
       "    }\n",
       "</style>\n",
       "<table border=\"1\" class=\"dataframe\">\n",
       "  <thead>\n",
       "    <tr style=\"text-align: right;\">\n",
       "      <th></th>\n",
       "      <th>value</th>\n",
       "      <th>day_sin</th>\n",
       "      <th>hour_sin</th>\n",
       "      <th>day_cos</th>\n",
       "      <th>hour_cos</th>\n",
       "    </tr>\n",
       "    <tr>\n",
       "      <th>datetime</th>\n",
       "      <th></th>\n",
       "      <th></th>\n",
       "      <th></th>\n",
       "      <th></th>\n",
       "      <th></th>\n",
       "    </tr>\n",
       "  </thead>\n",
       "  <tbody>\n",
       "    <tr>\n",
       "      <th>2017-01-01 01:00:00</th>\n",
       "      <td>-0.596075</td>\n",
       "      <td>0.017213</td>\n",
       "      <td>0.258819</td>\n",
       "      <td>0.999852</td>\n",
       "      <td>0.965926</td>\n",
       "    </tr>\n",
       "    <tr>\n",
       "      <th>2017-01-01 02:00:00</th>\n",
       "      <td>0.002208</td>\n",
       "      <td>0.017213</td>\n",
       "      <td>0.500000</td>\n",
       "      <td>0.999852</td>\n",
       "      <td>0.866025</td>\n",
       "    </tr>\n",
       "    <tr>\n",
       "      <th>2017-01-01 03:00:00</th>\n",
       "      <td>-0.656508</td>\n",
       "      <td>0.017213</td>\n",
       "      <td>0.707107</td>\n",
       "      <td>0.999852</td>\n",
       "      <td>0.707107</td>\n",
       "    </tr>\n",
       "    <tr>\n",
       "      <th>2017-01-01 04:00:00</th>\n",
       "      <td>-1.345441</td>\n",
       "      <td>0.017213</td>\n",
       "      <td>0.866025</td>\n",
       "      <td>0.999852</td>\n",
       "      <td>0.500000</td>\n",
       "    </tr>\n",
       "    <tr>\n",
       "      <th>2017-01-01 05:00:00</th>\n",
       "      <td>-1.363570</td>\n",
       "      <td>0.017213</td>\n",
       "      <td>0.965926</td>\n",
       "      <td>0.999852</td>\n",
       "      <td>0.258819</td>\n",
       "    </tr>\n",
       "    <tr>\n",
       "      <th>...</th>\n",
       "      <td>...</td>\n",
       "      <td>...</td>\n",
       "      <td>...</td>\n",
       "      <td>...</td>\n",
       "      <td>...</td>\n",
       "    </tr>\n",
       "    <tr>\n",
       "      <th>2020-12-31 19:00:00</th>\n",
       "      <td>0.552145</td>\n",
       "      <td>0.017213</td>\n",
       "      <td>-0.965926</td>\n",
       "      <td>0.999852</td>\n",
       "      <td>0.258819</td>\n",
       "    </tr>\n",
       "    <tr>\n",
       "      <th>2020-12-31 20:00:00</th>\n",
       "      <td>0.666968</td>\n",
       "      <td>0.017213</td>\n",
       "      <td>-0.866025</td>\n",
       "      <td>0.999852</td>\n",
       "      <td>0.500000</td>\n",
       "    </tr>\n",
       "    <tr>\n",
       "      <th>2020-12-31 21:00:00</th>\n",
       "      <td>0.594448</td>\n",
       "      <td>0.017213</td>\n",
       "      <td>-0.707107</td>\n",
       "      <td>0.999852</td>\n",
       "      <td>0.707107</td>\n",
       "    </tr>\n",
       "    <tr>\n",
       "      <th>2020-12-31 22:00:00</th>\n",
       "      <td>-0.577946</td>\n",
       "      <td>0.017213</td>\n",
       "      <td>-0.500000</td>\n",
       "      <td>0.999852</td>\n",
       "      <td>0.866025</td>\n",
       "    </tr>\n",
       "    <tr>\n",
       "      <th>2020-12-31 23:00:00</th>\n",
       "      <td>-0.753200</td>\n",
       "      <td>0.017213</td>\n",
       "      <td>-0.258819</td>\n",
       "      <td>0.999852</td>\n",
       "      <td>0.965926</td>\n",
       "    </tr>\n",
       "  </tbody>\n",
       "</table>\n",
       "<p>35063 rows × 5 columns</p>\n",
       "</div>"
      ],
      "text/plain": [
       "                        value   day_sin  hour_sin   day_cos  hour_cos\n",
       "datetime                                                             \n",
       "2017-01-01 01:00:00 -0.596075  0.017213  0.258819  0.999852  0.965926\n",
       "2017-01-01 02:00:00  0.002208  0.017213  0.500000  0.999852  0.866025\n",
       "2017-01-01 03:00:00 -0.656508  0.017213  0.707107  0.999852  0.707107\n",
       "2017-01-01 04:00:00 -1.345441  0.017213  0.866025  0.999852  0.500000\n",
       "2017-01-01 05:00:00 -1.363570  0.017213  0.965926  0.999852  0.258819\n",
       "...                       ...       ...       ...       ...       ...\n",
       "2020-12-31 19:00:00  0.552145  0.017213 -0.965926  0.999852  0.258819\n",
       "2020-12-31 20:00:00  0.666968  0.017213 -0.866025  0.999852  0.500000\n",
       "2020-12-31 21:00:00  0.594448  0.017213 -0.707107  0.999852  0.707107\n",
       "2020-12-31 22:00:00 -0.577946  0.017213 -0.500000  0.999852  0.866025\n",
       "2020-12-31 23:00:00 -0.753200  0.017213 -0.258819  0.999852  0.965926\n",
       "\n",
       "[35063 rows x 5 columns]"
      ]
     },
     "execution_count": 227,
     "metadata": {},
     "output_type": "execute_result"
    }
   ],
   "source": [
    "# datetime 칼럼 삭제\n",
    "train_data = train_data.drop(columns=\"datetime\")\n",
    "train_data"
   ]
  },
  {
   "cell_type": "markdown",
   "metadata": {
    "collapsed": false
   },
   "source": [
    "# [딥러닝 모델링에 넣기 위한 데이터 준비]\n",
    "\n",
    "* 이 문제는 뭘 예측해야하는가?\n",
    "* 이전 과거 데이터를 입력받아 미래의 336시간의 값을 예측해야함\n",
    "* 입력 : 특정 길이만큼의 시계열 데이터 (길이를 가변으로 할 수 없음)\n",
    "* 출력 : 336시간 만큼의 시계열 데이터\n",
    "\n",
    "* 지금 데이터는 그냥 일렬로 쭉 늘어진 형태이므로 이를 변환해줘야함\n",
    "\n",
    "* 슬라이딩 윈도우 활용\n",
    "* 예로 들어 주식 데이터가 365일 있을 때 이 데이터를 10일치 입력하여 다음 2일치 예측한다고 가정\n",
    "* 윈도우 크기가 10일이 됨\n",
    "\n",
    "1번 데이터는 1일부터 10일이 입력이고 그 다음 11일, 12일이 출력 \\\n",
    "2번 데이터는 2일부터 11일이 입력이고 그 다음이 12일, 13일 출력 \\\n",
    "3번 데이터는 3일부터 12일이 입력이고 그 다음이 13일, 14일 출력 \\\n",
    "...\n",
    "\n",
    "이런 식으로 형태를 변환해줘야함\n",
    "\n",
    "\n"
   ]
  },
  {
   "cell_type": "markdown",
   "metadata": {
    "collapsed": false
   },
   "source": [
    "* 일단 여기서는 입력 길이를 336 * 2로 설정\n",
    "* 여기에 맞춰서 슬라이딩 윈도우 적용"
   ]
  },
  {
   "cell_type": "code",
   "execution_count": 228,
   "metadata": {
    "collapsed": false
   },
   "outputs": [
    {
     "data": {
      "application/vnd.jupyter.widget-view+json": {
       "model_id": "49876c84b12644b5b50854222a887581",
       "version_major": 2,
       "version_minor": 0
      },
      "text/plain": [
       "  0%|          | 0/34392 [00:00<?, ?it/s]"
      ]
     },
     "metadata": {},
     "output_type": "display_data"
    },
    {
     "name": "stdout",
     "output_type": "stream",
     "text": [
      "(34392, 672, 5)\n"
     ]
    }
   ],
   "source": [
    "data = [] # 변수 data 배열선언\n",
    "window_size = 336 * 2\n",
    "\n",
    "# tqdm은 진행률 표시 (process bar)\n",
    "\n",
    "# 슬라이딩 윈도우를 길이가 100짜리인 시계열에 윈도우 크기 10을 적용하면\n",
    "# 100 - 10 + 1 개의 데이터 개수가 나옴\n",
    "\n",
    "for i in tqdm(range(len(train_data) - window_size + 1)):\n",
    "    # 윈도우 크기만큼 데이터에서 가져옴\n",
    "    # pandas 형식이지만 내부는 numpy 형식으로 돼있기때문에 .values로 numpy 형식으로 추출\n",
    "    x = train_data.iloc[i : i + window_size].values.reshape((1, window_size, 5))\n",
    "    data.append(x)\n",
    "\n",
    "\n",
    "# data는 리스트 형식으로 돼있으니 이를 numpy 행렬 형식으로 변환해줘야함\n",
    "# 여기서는 그냥 리스트를 하나로 병합하는 연산으로 위를 동시에 처리함\n",
    "data = np.concatenate(data, axis=0)\n",
    "print(data.shape)"
   ]
  },
  {
   "cell_type": "markdown",
   "metadata": {
    "collapsed": false
   },
   "source": [
    "* 그러나 지금은 출력에 대해서도 데이터를 생성해야하기 때문에\n",
    "* 슬라이딩 윈도우 크기를 출력 길이만큼 더 길게 해서 데이터 생성\n",
    "* 그 후 입력 데이터와 출력 데이터로 분리"
   ]
  },
  {
   "cell_type": "code",
   "execution_count": 229,
   "metadata": {
    "collapsed": false
   },
   "outputs": [
    {
     "name": "stdout",
     "output_type": "stream",
     "text": [
      "(34056, 1008, 5)\n",
      "(34056, 672, 5) (34056, 336)\n"
     ]
    }
   ],
   "source": [
    "input_length = 336 * 2\n",
    "output_length = 336\n",
    "\n",
    "window_size = input_length + output_length\n",
    "\n",
    "train = np.lib.stride_tricks.sliding_window_view(\n",
    "    train_data.values, window_size, axis=0).transpose((0, 2, 1))\n",
    "\n",
    "print(train.shape)\n",
    "\n",
    "input_data = train[:, :input_length, :]\n",
    "output_data = train[:, input_length:, 0]\n",
    "\n",
    "print(input_data.shape, output_data.shape)"
   ]
  },
  {
   "cell_type": "markdown",
   "metadata": {
    "collapsed": false
   },
   "source": [
    "* 데이터를 학습 / 검증 / 테스트로 분리. 그러나 현재 테스트 데이터는 data_ts_city.csv로 이미 있으므로 굳이 훈련 데이터에서 분리할 필요 없음\n",
    "* 검증 데이터를 써야 모델 과적합 유무를 알 수 있음\n",
    "* 과적합 : 훈련 데이터에만 매우매우 잘 예측하는 것. 새로운 데이터가 들어오면 엉뚱하게 예측할 수 있음"
   ]
  },
  {
   "cell_type": "code",
   "execution_count": 230,
   "metadata": {
    "collapsed": false
   },
   "outputs": [
    {
     "name": "stdout",
     "output_type": "stream",
     "text": [
      "(30650, 672, 5) (3406, 672, 5) (30650, 336) (3406, 336)\n"
     ]
    }
   ],
   "source": [
    "from sklearn.model_selection import train_test_split\n",
    "\n",
    "X_train, X_val, y_train, y_val = train_test_split(\n",
    "    input_data, output_data, test_size=0.1, shuffle=False\n",
    ")\n",
    "\n",
    "print(X_train.shape, X_val.shape, y_train.shape, y_val.shape)"
   ]
  },
  {
   "cell_type": "markdown",
   "metadata": {
    "collapsed": false
   },
   "source": [
    "# [딥러닝 모델설계]"
   ]
  },
  {
   "cell_type": "code",
   "execution_count": 231,
   "metadata": {
    "collapsed": false
   },
   "outputs": [
    {
     "name": "stdout",
     "output_type": "stream",
     "text": [
      "Model: \"model_7\"\n",
      "_________________________________________________________________\n",
      " Layer (type)                Output Shape              Param #   \n",
      "=================================================================\n",
      " input_8 (InputLayer)        [(None, 672, 5)]          0         \n",
      "                                                                 \n",
      " flatten_7 (Flatten)         (None, 3360)              0         \n",
      "                                                                 \n",
      " dense_21 (Dense)            (None, 256)               860416    \n",
      "                                                                 \n",
      " dense_22 (Dense)            (None, 256)               65792     \n",
      "                                                                 \n",
      " dense_23 (Dense)            (None, 336)               86352     \n",
      "                                                                 \n",
      "=================================================================\n",
      "Total params: 1,012,560\n",
      "Trainable params: 1,012,560\n",
      "Non-trainable params: 0\n",
      "_________________________________________________________________\n"
     ]
    }
   ],
   "source": [
    "def create_model(input_length=336 * 2, output_length=336):\n",
    "    inputs = layers.Input((input_length, 5))\n",
    "    x = layers.Flatten()(inputs)\n",
    "\n",
    "    x = layers.Dense(256, activation=\"gelu\")(x)\n",
    "    x = layers.Dense(256, activation=\"gelu\")(x)\n",
    "    x = layers.Dense(output_length)(x)\n",
    "\n",
    "    model = tf.keras.models.Model(inputs=inputs, outputs=x)\n",
    "    return model\n",
    "\n",
    "\n",
    "model = create_model()\n",
    "model.summary()"
   ]
  },
  {
   "cell_type": "markdown",
   "metadata": {
    "collapsed": false
   },
   "source": [
    "# [모델 학습]"
   ]
  },
  {
   "cell_type": "code",
   "execution_count": 232,
   "metadata": {
    "collapsed": false
   },
   "outputs": [],
   "source": [
    "# 모델 컴파일\n",
    "# 손실함수로 회귀문제에서 사용되는 mean absolute error 사용. (정답 - 예측)의 절대값 평균\n",
    "# optimzier로 Adam 사용\n",
    "\n",
    "model.compile(\n",
    "    loss=tf.keras.losses.mean_absolute_error, optimizer=tf.keras.optimizers.Adam(0.001)\n",
    ")"
   ]
  },
  {
   "cell_type": "code",
   "execution_count": 233,
   "metadata": {
    "collapsed": false
   },
   "outputs": [
    {
     "name": "stdout",
     "output_type": "stream",
     "text": [
      "60/60 [==============================] - 1s 15ms/step - loss: 0.6238 - val_loss: 0.5516\n",
      "Epoch 2/50\n",
      "60/60 [==============================] - 1s 12ms/step - loss: 0.5680 - val_loss: 0.5415\n",
      "Epoch 3/50\n",
      "60/60 [==============================] - 1s 11ms/step - loss: 0.5596 - val_loss: 0.5372\n",
      "Epoch 4/50\n",
      "60/60 [==============================] - 1s 11ms/step - loss: 0.5536 - val_loss: 0.5292\n",
      "Epoch 5/50\n",
      "60/60 [==============================] - 1s 11ms/step - loss: 0.5493 - val_loss: 0.5276\n",
      "Epoch 6/50\n",
      "60/60 [==============================] - 1s 11ms/step - loss: 0.5457 - val_loss: 0.5244\n",
      "Epoch 7/50\n",
      "60/60 [==============================] - 1s 11ms/step - loss: 0.5435 - val_loss: 0.5242\n",
      "Epoch 8/50\n",
      "60/60 [==============================] - 1s 11ms/step - loss: 0.5412 - val_loss: 0.5234\n",
      "Epoch 9/50\n",
      "60/60 [==============================] - 1s 11ms/step - loss: 0.5390 - val_loss: 0.5229\n",
      "Epoch 10/50\n",
      "60/60 [==============================] - 1s 11ms/step - loss: 0.5373 - val_loss: 0.5218\n",
      "Epoch 11/50\n",
      "60/60 [==============================] - 1s 11ms/step - loss: 0.5360 - val_loss: 0.5231\n",
      "Epoch 12/50\n",
      "60/60 [==============================] - 1s 11ms/step - loss: 0.5344 - val_loss: 0.5234\n",
      "Epoch 13/50\n",
      "60/60 [==============================] - 1s 11ms/step - loss: 0.5334 - val_loss: 0.5226\n",
      "Epoch 14/50\n",
      "60/60 [==============================] - 1s 11ms/step - loss: 0.5321 - val_loss: 0.5233\n",
      "Epoch 15/50\n",
      "60/60 [==============================] - 1s 11ms/step - loss: 0.5314 - val_loss: 0.5219\n",
      "Epoch 16/50\n",
      "60/60 [==============================] - 1s 11ms/step - loss: 0.5300 - val_loss: 0.5221\n",
      "Epoch 17/50\n",
      "60/60 [==============================] - 1s 11ms/step - loss: 0.5291 - val_loss: 0.5223\n",
      "Epoch 18/50\n",
      "60/60 [==============================] - 1s 11ms/step - loss: 0.5283 - val_loss: 0.5223\n",
      "Epoch 19/50\n",
      "60/60 [==============================] - 1s 11ms/step - loss: 0.5274 - val_loss: 0.5239\n",
      "Epoch 20/50\n",
      "60/60 [==============================] - 1s 11ms/step - loss: 0.5267 - val_loss: 0.5235\n",
      "Epoch 21/50\n",
      "60/60 [==============================] - 1s 11ms/step - loss: 0.5259 - val_loss: 0.5255\n",
      "Epoch 22/50\n",
      "60/60 [==============================] - 1s 11ms/step - loss: 0.5252 - val_loss: 0.5240\n",
      "Epoch 23/50\n",
      "60/60 [==============================] - 1s 11ms/step - loss: 0.5244 - val_loss: 0.5255\n",
      "Epoch 24/50\n",
      "60/60 [==============================] - 1s 12ms/step - loss: 0.5238 - val_loss: 0.5245\n",
      "Epoch 25/50\n",
      "60/60 [==============================] - 1s 11ms/step - loss: 0.5233 - val_loss: 0.5254\n",
      "Epoch 26/50\n",
      "60/60 [==============================] - 1s 12ms/step - loss: 0.5227 - val_loss: 0.5253\n",
      "Epoch 27/50\n",
      "60/60 [==============================] - 1s 11ms/step - loss: 0.5220 - val_loss: 0.5256\n",
      "Epoch 28/50\n",
      "60/60 [==============================] - 1s 11ms/step - loss: 0.5215 - val_loss: 0.5268\n",
      "Epoch 29/50\n",
      "60/60 [==============================] - 1s 11ms/step - loss: 0.5210 - val_loss: 0.5278\n",
      "Epoch 30/50\n",
      "60/60 [==============================] - 1s 11ms/step - loss: 0.5205 - val_loss: 0.5282\n",
      "Epoch 31/50\n",
      "60/60 [==============================] - 1s 12ms/step - loss: 0.5202 - val_loss: 0.5287\n",
      "Epoch 32/50\n",
      "60/60 [==============================] - 1s 11ms/step - loss: 0.5199 - val_loss: 0.5288\n",
      "Epoch 33/50\n",
      "60/60 [==============================] - 1s 11ms/step - loss: 0.5192 - val_loss: 0.5288\n",
      "Epoch 34/50\n",
      "60/60 [==============================] - 1s 11ms/step - loss: 0.5186 - val_loss: 0.5300\n",
      "Epoch 35/50\n",
      "60/60 [==============================] - 1s 11ms/step - loss: 0.5184 - val_loss: 0.5293\n",
      "Epoch 36/50\n",
      "60/60 [==============================] - 1s 11ms/step - loss: 0.5179 - val_loss: 0.5292\n",
      "Epoch 37/50\n",
      "60/60 [==============================] - 1s 11ms/step - loss: 0.5177 - val_loss: 0.5295\n",
      "Epoch 38/50\n",
      "60/60 [==============================] - 1s 11ms/step - loss: 0.5173 - val_loss: 0.5288\n",
      "Epoch 39/50\n",
      "60/60 [==============================] - 1s 11ms/step - loss: 0.5169 - val_loss: 0.5310\n",
      "Epoch 40/50\n",
      "60/60 [==============================] - 1s 11ms/step - loss: 0.5166 - val_loss: 0.5303\n",
      "Epoch 41/50\n",
      "60/60 [==============================] - 1s 11ms/step - loss: 0.5164 - val_loss: 0.5312\n",
      "Epoch 42/50\n",
      "60/60 [==============================] - 1s 11ms/step - loss: 0.5160 - val_loss: 0.5298\n",
      "Epoch 43/50\n",
      "60/60 [==============================] - 1s 11ms/step - loss: 0.5157 - val_loss: 0.5319\n",
      "Epoch 44/50\n",
      "60/60 [==============================] - 1s 11ms/step - loss: 0.5155 - val_loss: 0.5319\n",
      "Epoch 45/50\n",
      "60/60 [==============================] - 1s 11ms/step - loss: 0.5152 - val_loss: 0.5323\n",
      "Epoch 46/50\n",
      "60/60 [==============================] - 1s 11ms/step - loss: 0.5148 - val_loss: 0.5324\n",
      "Epoch 47/50\n",
      "60/60 [==============================] - 1s 11ms/step - loss: 0.5146 - val_loss: 0.5317\n",
      "Epoch 48/50\n",
      "60/60 [==============================] - 1s 11ms/step - loss: 0.5143 - val_loss: 0.5334\n",
      "Epoch 49/50\n",
      "60/60 [==============================] - 1s 11ms/step - loss: 0.5141 - val_loss: 0.5350\n",
      "Epoch 50/50\n",
      "60/60 [==============================] - 1s 13ms/step - loss: 0.5139 - val_loss: 0.5329\n",
      "Epoch 1/50\n",
      "60/60 [==============================] - 1s 14ms/step - loss: 0.6237 - val_loss: 0.5517\n",
      "Epoch 2/50\n",
      "60/60 [==============================] - 1s 11ms/step - loss: 0.5680 - val_loss: 0.5436\n",
      "Epoch 3/50\n",
      "60/60 [==============================] - 1s 11ms/step - loss: 0.5600 - val_loss: 0.5360\n",
      "Epoch 4/50\n",
      "60/60 [==============================] - 1s 11ms/step - loss: 0.5545 - val_loss: 0.5300\n",
      "Epoch 5/50\n",
      "60/60 [==============================] - 1s 11ms/step - loss: 0.5497 - val_loss: 0.5270\n",
      "Epoch 6/50\n",
      "60/60 [==============================] - 1s 11ms/step - loss: 0.5462 - val_loss: 0.5272\n",
      "Epoch 7/50\n",
      "60/60 [==============================] - 1s 11ms/step - loss: 0.5437 - val_loss: 0.5242\n",
      "Epoch 8/50\n",
      "60/60 [==============================] - 1s 11ms/step - loss: 0.5413 - val_loss: 0.5235\n",
      "Epoch 9/50\n",
      "60/60 [==============================] - 1s 11ms/step - loss: 0.5395 - val_loss: 0.5229\n",
      "Epoch 10/50\n",
      "60/60 [==============================] - 1s 11ms/step - loss: 0.5377 - val_loss: 0.5234\n",
      "Epoch 11/50\n",
      "60/60 [==============================] - 1s 11ms/step - loss: 0.5362 - val_loss: 0.5246\n",
      "Epoch 12/50\n",
      "60/60 [==============================] - 1s 11ms/step - loss: 0.5348 - val_loss: 0.5230\n",
      "Epoch 13/50\n",
      "60/60 [==============================] - 1s 11ms/step - loss: 0.5336 - val_loss: 0.5230\n",
      "Epoch 14/50\n",
      "60/60 [==============================] - 1s 11ms/step - loss: 0.5323 - val_loss: 0.5235\n",
      "Epoch 15/50\n",
      "60/60 [==============================] - 1s 11ms/step - loss: 0.5313 - val_loss: 0.5248\n",
      "Epoch 16/50\n",
      "60/60 [==============================] - 1s 11ms/step - loss: 0.5303 - val_loss: 0.5238\n",
      "Epoch 17/50\n",
      "60/60 [==============================] - 1s 11ms/step - loss: 0.5293 - val_loss: 0.5242\n",
      "Epoch 18/50\n",
      "60/60 [==============================] - 1s 11ms/step - loss: 0.5284 - val_loss: 0.5256\n",
      "Epoch 19/50\n",
      "60/60 [==============================] - 1s 11ms/step - loss: 0.5275 - val_loss: 0.5249\n",
      "Epoch 20/50\n",
      "60/60 [==============================] - 1s 11ms/step - loss: 0.5268 - val_loss: 0.5251\n",
      "Epoch 21/50\n",
      "60/60 [==============================] - 1s 11ms/step - loss: 0.5262 - val_loss: 0.5255\n",
      "Epoch 22/50\n",
      "60/60 [==============================] - 1s 11ms/step - loss: 0.5254 - val_loss: 0.5272\n",
      "Epoch 23/50\n",
      "60/60 [==============================] - 1s 11ms/step - loss: 0.5249 - val_loss: 0.5281\n",
      "Epoch 24/50\n",
      "60/60 [==============================] - 1s 11ms/step - loss: 0.5241 - val_loss: 0.5263\n",
      "Epoch 25/50\n",
      "60/60 [==============================] - 1s 11ms/step - loss: 0.5233 - val_loss: 0.5278\n",
      "Epoch 26/50\n",
      "60/60 [==============================] - 1s 11ms/step - loss: 0.5231 - val_loss: 0.5273\n",
      "Epoch 27/50\n",
      "60/60 [==============================] - 1s 11ms/step - loss: 0.5226 - val_loss: 0.5278\n",
      "Epoch 28/50\n",
      "60/60 [==============================] - 1s 11ms/step - loss: 0.5216 - val_loss: 0.5294\n",
      "Epoch 29/50\n",
      "60/60 [==============================] - 1s 11ms/step - loss: 0.5213 - val_loss: 0.5276\n",
      "Epoch 30/50\n",
      "60/60 [==============================] - 1s 11ms/step - loss: 0.5207 - val_loss: 0.5301\n",
      "Epoch 31/50\n",
      "60/60 [==============================] - 1s 11ms/step - loss: 0.5204 - val_loss: 0.5308\n",
      "Epoch 32/50\n",
      "60/60 [==============================] - 1s 12ms/step - loss: 0.5199 - val_loss: 0.5314\n",
      "Epoch 33/50\n",
      "60/60 [==============================] - 1s 11ms/step - loss: 0.5193 - val_loss: 0.5324\n",
      "Epoch 34/50\n",
      "60/60 [==============================] - 1s 11ms/step - loss: 0.5191 - val_loss: 0.5302\n",
      "Epoch 35/50\n",
      "60/60 [==============================] - 1s 11ms/step - loss: 0.5186 - val_loss: 0.5305\n",
      "Epoch 36/50\n",
      "60/60 [==============================] - 1s 11ms/step - loss: 0.5184 - val_loss: 0.5311\n",
      "Epoch 37/50\n",
      "60/60 [==============================] - 1s 12ms/step - loss: 0.5179 - val_loss: 0.5319\n",
      "Epoch 38/50\n",
      "60/60 [==============================] - 1s 11ms/step - loss: 0.5176 - val_loss: 0.5335\n",
      "Epoch 39/50\n",
      "60/60 [==============================] - 1s 11ms/step - loss: 0.5172 - val_loss: 0.5316\n",
      "Epoch 40/50\n",
      "60/60 [==============================] - 1s 11ms/step - loss: 0.5169 - val_loss: 0.5356\n",
      "Epoch 41/50\n",
      "60/60 [==============================] - 1s 11ms/step - loss: 0.5165 - val_loss: 0.5324\n",
      "Epoch 42/50\n",
      "60/60 [==============================] - 1s 11ms/step - loss: 0.5162 - val_loss: 0.5332\n",
      "Epoch 43/50\n",
      "60/60 [==============================] - 1s 13ms/step - loss: 0.5159 - val_loss: 0.5345\n",
      "Epoch 44/50\n",
      "60/60 [==============================] - 1s 13ms/step - loss: 0.5157 - val_loss: 0.5345\n",
      "Epoch 45/50\n",
      "60/60 [==============================] - 1s 11ms/step - loss: 0.5155 - val_loss: 0.5339\n",
      "Epoch 46/50\n",
      "60/60 [==============================] - 1s 11ms/step - loss: 0.5155 - val_loss: 0.5329\n",
      "Epoch 47/50\n",
      "60/60 [==============================] - 1s 12ms/step - loss: 0.5149 - val_loss: 0.5348\n",
      "Epoch 48/50\n",
      "60/60 [==============================] - 1s 11ms/step - loss: 0.5148 - val_loss: 0.5353\n",
      "Epoch 49/50\n",
      "60/60 [==============================] - 1s 11ms/step - loss: 0.5144 - val_loss: 0.5381\n",
      "Epoch 50/50\n",
      "60/60 [==============================] - 1s 11ms/step - loss: 0.5142 - val_loss: 0.5358\n"
     ]
    }
   ],
   "source": [
    "history1 = model.fit(\n",
    "    x=X_train, y=y_train, validation_data=(X_val, y_val), epochs=50, batch_size=512\n",
    ")"
   ]
  },
  {
   "cell_type": "markdown",
   "metadata": {
    "collapsed": false
   },
   "source": [
    "* 훈련 데이터에 대한 손실은 계속 감소하지만\n",
    "* 한번도 보지못한 검증 데이터에 대한 손실은 어느 순간부터 증가함 (과적합)\n",
    "* early stop을 걸어줘서 validation loss가 증가하면 학습을 멈추게끔 설정"
   ]
  },
  {
   "cell_type": "code",
   "execution_count": 237,
   "metadata": {
    "collapsed": false
   },
   "outputs": [
    {
     "data": {
      "image/png": "[encoded data removed]",
      "text/plain": [
       "<Figure size 640x480 with 1 Axes>"
      ]
     },
     "metadata": {},
     "output_type": "display_data"
    }
   ],
   "source": [
    "plt.plot(history1.history[\"loss\"], label=\"loss_train_1\")\n",
    "plt.plot(history1.history[\"val_loss\"], label=\"loss_val_1\")\n",
    "plt.legend()\n",
    "plt.yscale(\"log\")\n",
    "plt.show()"
   ]
  },
  {
   "cell_type": "code",
   "execution_count": 238,
   "metadata": {
    "collapsed": false
   },
   "outputs": [
    {
     "name": "stdout",
     "output_type": "stream",
     "text": [
      "Epoch 1/100\n",
      "60/60 [==============================] - 1s 15ms/step - loss: 0.6222 - val_loss: 0.5525\n",
      "Epoch 2/100\n",
      "60/60 [==============================] - 1s 12ms/step - loss: 0.5681 - val_loss: 0.5467\n",
      "Epoch 3/100\n",
      "60/60 [==============================] - 1s 12ms/step - loss: 0.5598 - val_loss: 0.5380\n",
      "Epoch 4/100\n",
      "60/60 [==============================] - 1s 13ms/step - loss: 0.5541 - val_loss: 0.5303\n",
      "Epoch 5/100\n",
      "60/60 [==============================] - 1s 14ms/step - loss: 0.5498 - val_loss: 0.5284\n",
      "Epoch 6/100\n",
      "60/60 [==============================] - 1s 13ms/step - loss: 0.5464 - val_loss: 0.5266\n",
      "Epoch 7/100\n",
      "60/60 [==============================] - 1s 12ms/step - loss: 0.5435 - val_loss: 0.5270\n",
      "Epoch 8/100\n",
      "60/60 [==============================] - 1s 12ms/step - loss: 0.5414 - val_loss: 0.5242\n",
      "Epoch 9/100\n",
      "60/60 [==============================] - 1s 12ms/step - loss: 0.5395 - val_loss: 0.5243\n",
      "Epoch 10/100\n",
      "60/60 [==============================] - 1s 12ms/step - loss: 0.5380 - val_loss: 0.5239\n",
      "Epoch 11/100\n",
      "60/60 [==============================] - 1s 12ms/step - loss: 0.5363 - val_loss: 0.5251\n",
      "Epoch 12/100\n",
      "60/60 [==============================] - 1s 20ms/step - loss: 0.5347 - val_loss: 0.5236\n",
      "Epoch 13/100\n",
      "60/60 [==============================] - 1s 13ms/step - loss: 0.5336 - val_loss: 0.5215\n",
      "Epoch 14/100\n",
      "60/60 [==============================] - 1s 13ms/step - loss: 0.5323 - val_loss: 0.5243\n",
      "Epoch 15/100\n",
      "60/60 [==============================] - 1s 13ms/step - loss: 0.5313 - val_loss: 0.5245\n",
      "Epoch 16/100\n",
      "60/60 [==============================] - 1s 12ms/step - loss: 0.5301 - val_loss: 0.5249\n",
      "Epoch 17/100\n",
      "60/60 [==============================] - 1s 12ms/step - loss: 0.5293 - val_loss: 0.5256\n",
      "Epoch 18/100\n",
      "60/60 [==============================] - 1s 12ms/step - loss: 0.5284 - val_loss: 0.5252\n",
      "Epoch 19/100\n",
      "60/60 [==============================] - 1s 12ms/step - loss: 0.5277 - val_loss: 0.5256\n",
      "Epoch 20/100\n",
      "60/60 [==============================] - 1s 11ms/step - loss: 0.5269 - val_loss: 0.5274\n",
      "Epoch 21/100\n",
      "60/60 [==============================] - 1s 12ms/step - loss: 0.5258 - val_loss: 0.5253\n",
      "Epoch 22/100\n",
      "60/60 [==============================] - 1s 11ms/step - loss: 0.5254 - val_loss: 0.5273\n",
      "Epoch 23/100\n",
      "60/60 [==============================] - 1s 13ms/step - loss: 0.5246 - val_loss: 0.5261\n",
      "Epoch 24/100\n",
      "60/60 [==============================] - 1s 12ms/step - loss: 0.5239 - val_loss: 0.5277\n",
      "Epoch 25/100\n",
      "60/60 [==============================] - 1s 15ms/step - loss: 0.5232 - val_loss: 0.5280\n",
      "Epoch 26/100\n",
      "60/60 [==============================] - 1s 13ms/step - loss: 0.5226 - val_loss: 0.5276\n",
      "Epoch 27/100\n",
      "60/60 [==============================] - 1s 11ms/step - loss: 0.5221 - val_loss: 0.5284\n",
      "Epoch 28/100\n",
      "60/60 [==============================] - 1s 11ms/step - loss: 0.5215 - val_loss: 0.5282\n",
      "Epoch 29/100\n",
      "60/60 [==============================] - 1s 11ms/step - loss: 0.5213 - val_loss: 0.5293\n",
      "Epoch 30/100\n",
      "60/60 [==============================] - 1s 12ms/step - loss: 0.5208 - val_loss: 0.5298\n",
      "Epoch 31/100\n",
      "60/60 [==============================] - 1s 12ms/step - loss: 0.5201 - val_loss: 0.5298\n",
      "Epoch 32/100\n",
      "60/60 [==============================] - 1s 11ms/step - loss: 0.5197 - val_loss: 0.5303\n",
      "Epoch 33/100\n",
      "58/60 [============================>.] - ETA: 0s - loss: 0.5191Restoring model weights from the end of the best epoch: 13.\n",
      "60/60 [==============================] - 1s 11ms/step - loss: 0.5192 - val_loss: 0.5314\n",
      "Epoch 33: early stopping\n"
     ]
    }
   ],
   "source": [
    "model = create_model()\n",
    "model.compile(\n",
    "    loss=tf.keras.losses.mean_absolute_error, optimizer=tf.keras.optimizers.Adam(0.001)\n",
    ")\n",
    "\n",
    "# val loss가 증가하고 20번 동안 감소하지 않으면 학습 종료\n",
    "early_stop = tf.keras.callbacks.EarlyStopping(\n",
    "    monitor=\"val_loss\", patience=20, restore_best_weights=True, verbose=True\n",
    ")\n",
    "\n",
    "history2 = model.fit(\n",
    "    x=X_train,\n",
    "    y=y_train,\n",
    "    validation_data=(X_val, y_val),\n",
    "    epochs=100,\n",
    "    batch_size=512,\n",
    "    callbacks=[early_stop],\n",
    ")"
   ]
  },
  {
   "cell_type": "code",
   "execution_count": 239,
   "metadata": {
    "collapsed": false
   },
   "outputs": [
    {
     "data": {
      "image/png": "[encoded data removed]",
      "text/plain": [
       "<Figure size 640x480 with 1 Axes>"
      ]
     },
     "metadata": {},
     "output_type": "display_data"
    }
   ],
   "source": [
    "plt.plot(history1.history[\"loss\"], label=\"loss_train_1\")\n",
    "plt.plot(history1.history[\"val_loss\"], label=\"loss_val_1\")\n",
    "plt.plot(history2.history[\"loss\"], label=\"loss_train_2\")\n",
    "plt.plot(history2.history[\"val_loss\"], label=\"loss_val_2\")\n",
    "plt.legend()\n",
    "plt.yscale(\"log\")\n",
    "plt.show()"
   ]
  },
  {
   "cell_type": "code",
   "execution_count": 240,
   "metadata": {
    "collapsed": false
   },
   "outputs": [
    {
     "data": {
      "text/html": [
       "<div>\n",
       "<style scoped>\n",
       "    .dataframe tbody tr th:only-of-type {\n",
       "        vertical-align: middle;\n",
       "    }\n",
       "\n",
       "    .dataframe tbody tr th {\n",
       "        vertical-align: top;\n",
       "    }\n",
       "\n",
       "    .dataframe thead th {\n",
       "        text-align: right;\n",
       "    }\n",
       "</style>\n",
       "<table border=\"1\" class=\"dataframe\">\n",
       "  <thead>\n",
       "    <tr style=\"text-align: right;\">\n",
       "      <th></th>\n",
       "      <th>value</th>\n",
       "      <th>day_sin</th>\n",
       "      <th>hour_sin</th>\n",
       "      <th>day_cos</th>\n",
       "      <th>hour_cos</th>\n",
       "    </tr>\n",
       "    <tr>\n",
       "      <th>datetime</th>\n",
       "      <th></th>\n",
       "      <th></th>\n",
       "      <th></th>\n",
       "      <th></th>\n",
       "      <th></th>\n",
       "    </tr>\n",
       "  </thead>\n",
       "  <tbody>\n",
       "    <tr>\n",
       "      <th>2017-01-01 01:00:00</th>\n",
       "      <td>-0.596075</td>\n",
       "      <td>0.017213</td>\n",
       "      <td>0.258819</td>\n",
       "      <td>0.999852</td>\n",
       "      <td>0.965926</td>\n",
       "    </tr>\n",
       "    <tr>\n",
       "      <th>2017-01-01 02:00:00</th>\n",
       "      <td>0.002208</td>\n",
       "      <td>0.017213</td>\n",
       "      <td>0.500000</td>\n",
       "      <td>0.999852</td>\n",
       "      <td>0.866025</td>\n",
       "    </tr>\n",
       "    <tr>\n",
       "      <th>2017-01-01 03:00:00</th>\n",
       "      <td>-0.656508</td>\n",
       "      <td>0.017213</td>\n",
       "      <td>0.707107</td>\n",
       "      <td>0.999852</td>\n",
       "      <td>0.707107</td>\n",
       "    </tr>\n",
       "    <tr>\n",
       "      <th>2017-01-01 04:00:00</th>\n",
       "      <td>-1.345441</td>\n",
       "      <td>0.017213</td>\n",
       "      <td>0.866025</td>\n",
       "      <td>0.999852</td>\n",
       "      <td>0.500000</td>\n",
       "    </tr>\n",
       "    <tr>\n",
       "      <th>2017-01-01 05:00:00</th>\n",
       "      <td>-1.363570</td>\n",
       "      <td>0.017213</td>\n",
       "      <td>0.965926</td>\n",
       "      <td>0.999852</td>\n",
       "      <td>0.258819</td>\n",
       "    </tr>\n",
       "    <tr>\n",
       "      <th>...</th>\n",
       "      <td>...</td>\n",
       "      <td>...</td>\n",
       "      <td>...</td>\n",
       "      <td>...</td>\n",
       "      <td>...</td>\n",
       "    </tr>\n",
       "    <tr>\n",
       "      <th>2021-12-17 19:00:00</th>\n",
       "      <td>0.546102</td>\n",
       "      <td>-0.238673</td>\n",
       "      <td>-0.965926</td>\n",
       "      <td>0.971100</td>\n",
       "      <td>0.258819</td>\n",
       "    </tr>\n",
       "    <tr>\n",
       "      <th>2021-12-17 20:00:00</th>\n",
       "      <td>1.670150</td>\n",
       "      <td>-0.238673</td>\n",
       "      <td>-0.866025</td>\n",
       "      <td>0.971100</td>\n",
       "      <td>0.500000</td>\n",
       "    </tr>\n",
       "    <tr>\n",
       "      <th>2021-12-17 21:00:00</th>\n",
       "      <td>0.963088</td>\n",
       "      <td>-0.238673</td>\n",
       "      <td>-0.707107</td>\n",
       "      <td>0.971100</td>\n",
       "      <td>0.707107</td>\n",
       "    </tr>\n",
       "    <tr>\n",
       "      <th>2021-12-17 22:00:00</th>\n",
       "      <td>0.685097</td>\n",
       "      <td>-0.238673</td>\n",
       "      <td>-0.500000</td>\n",
       "      <td>0.971100</td>\n",
       "      <td>0.866025</td>\n",
       "    </tr>\n",
       "    <tr>\n",
       "      <th>2021-12-17 23:00:00</th>\n",
       "      <td>-0.239523</td>\n",
       "      <td>-0.238673</td>\n",
       "      <td>-0.258819</td>\n",
       "      <td>0.971100</td>\n",
       "      <td>0.965926</td>\n",
       "    </tr>\n",
       "  </tbody>\n",
       "</table>\n",
       "<p>43487 rows × 5 columns</p>\n",
       "</div>"
      ],
      "text/plain": [
       "                        value   day_sin  hour_sin   day_cos  hour_cos\n",
       "datetime                                                             \n",
       "2017-01-01 01:00:00 -0.596075  0.017213  0.258819  0.999852  0.965926\n",
       "2017-01-01 02:00:00  0.002208  0.017213  0.500000  0.999852  0.866025\n",
       "2017-01-01 03:00:00 -0.656508  0.017213  0.707107  0.999852  0.707107\n",
       "2017-01-01 04:00:00 -1.345441  0.017213  0.866025  0.999852  0.500000\n",
       "2017-01-01 05:00:00 -1.363570  0.017213  0.965926  0.999852  0.258819\n",
       "...                       ...       ...       ...       ...       ...\n",
       "2021-12-17 19:00:00  0.546102 -0.238673 -0.965926  0.971100  0.258819\n",
       "2021-12-17 20:00:00  1.670150 -0.238673 -0.866025  0.971100  0.500000\n",
       "2021-12-17 21:00:00  0.963088 -0.238673 -0.707107  0.971100  0.707107\n",
       "2021-12-17 22:00:00  0.685097 -0.238673 -0.500000  0.971100  0.866025\n",
       "2021-12-17 23:00:00 -0.239523 -0.238673 -0.258819  0.971100  0.965926\n",
       "\n",
       "[43487 rows x 5 columns]"
      ]
     },
     "execution_count": 240,
     "metadata": {},
     "output_type": "execute_result"
    }
   ],
   "source": [
    "# 제출할 예측 데이터 생성\n",
    "\n",
    "# 테스트 데이터에 대해서도 똑같은 전처리 수행\n",
    "\n",
    "test_data = pd.read_csv(\"data_ts_city.csv\")\n",
    "\n",
    "test_data.index = pd.to_datetime(test_data[\"datetime\"], format=\"%Y-%m-%d %H:%M:%S\")\n",
    "\n",
    "test_data.columns = [\"datetime\", \"value\"]\n",
    "\n",
    "test_data[\"datetime\"] = pd.to_datetime(\n",
    "    test_data[\"datetime\"], format=\"%Y-%m-%d %H:%M:%S\"\n",
    ")\n",
    "\n",
    "test_data[\"day_sin\"] = sin_transformer(365).fit_transform(\n",
    "    test_data[\"datetime\"].dt.dayofyear\n",
    ")\n",
    "\n",
    "test_data[\"hour_sin\"] = sin_transformer(24).fit_transform(test_data[\"datetime\"].dt.hour)\n",
    "\n",
    "test_data[\"day_cos\"] = cos_transformer(365).fit_transform(\n",
    "    test_data[\"datetime\"].dt.dayofyear\n",
    ")\n",
    "\n",
    "test_data[\"hour_cos\"] = cos_transformer(24).fit_transform(test_data[\"datetime\"].dt.hour)\n",
    "\n",
    "test_data['value'] = scaler.transform(test_data['value'].values.reshape((-1, 1)))\n",
    "\n",
    "test_data = test_data.drop(columns=\"datetime\")\n",
    "\n",
    "# 현재 이 문제는 2020년도 12월 데이터가 있어야 21년도를 예측할 수 있다\n",
    "# 일단 훈련 데이터랑 테스트 데이터랑 합쳐서 처리해 보자\n",
    "\n",
    "data = pd.concat([train_data, test_data], axis=0)\n",
    "data"
   ]
  },
  {
   "cell_type": "code",
   "execution_count": 241,
   "metadata": {
    "collapsed": false
   },
   "outputs": [
    {
     "data": {
      "text/plain": [
       "(8425, 672, 5)"
      ]
     },
     "execution_count": 241,
     "metadata": {},
     "output_type": "execute_result"
    }
   ],
   "source": [
    "x_test = np.lib.stride_tricks.sliding_window_view(\n",
    "    data.iloc[-len(test_data) - input_length :].values, 336 * 2, axis=0\n",
    ").transpose((0, 2, 1))\n",
    "\n",
    "x_test.shape"
   ]
  },
  {
   "cell_type": "markdown",
   "metadata": {
    "collapsed": false
   },
   "source": [
    "# [데이터 예측]"
   ]
  },
  {
   "cell_type": "code",
   "execution_count": 242,
   "metadata": {
    "collapsed": false
   },
   "outputs": [
    {
     "name": "stdout",
     "output_type": "stream",
     "text": [
      "264/264 [==============================] - 1s 3ms/step\n"
     ]
    }
   ],
   "source": [
    "predict = model.predict(x_test)"
   ]
  },
  {
   "cell_type": "code",
   "execution_count": 243,
   "metadata": {
    "collapsed": false
   },
   "outputs": [],
   "source": [
    "predict = scaler.inverse_transform(predict.reshape((-1, 336)))"
   ]
  },
  {
   "cell_type": "code",
   "execution_count": 244,
   "metadata": {
    "collapsed": false
   },
   "outputs": [
    {
     "data": {
      "text/html": [
       "<div>\n",
       "<style scoped>\n",
       "    .dataframe tbody tr th:only-of-type {\n",
       "        vertical-align: middle;\n",
       "    }\n",
       "\n",
       "    .dataframe tbody tr th {\n",
       "        vertical-align: top;\n",
       "    }\n",
       "\n",
       "    .dataframe thead th {\n",
       "        text-align: right;\n",
       "    }\n",
       "</style>\n",
       "<table border=\"1\" class=\"dataframe\">\n",
       "  <thead>\n",
       "    <tr style=\"text-align: right;\">\n",
       "      <th></th>\n",
       "      <th>datetime</th>\n",
       "      <th>h0</th>\n",
       "      <th>h1</th>\n",
       "      <th>h2</th>\n",
       "      <th>h3</th>\n",
       "      <th>h4</th>\n",
       "      <th>h5</th>\n",
       "      <th>h6</th>\n",
       "      <th>h7</th>\n",
       "      <th>h8</th>\n",
       "      <th>...</th>\n",
       "      <th>h326</th>\n",
       "      <th>h327</th>\n",
       "      <th>h328</th>\n",
       "      <th>h329</th>\n",
       "      <th>h330</th>\n",
       "      <th>h331</th>\n",
       "      <th>h332</th>\n",
       "      <th>h333</th>\n",
       "      <th>h334</th>\n",
       "      <th>h335</th>\n",
       "    </tr>\n",
       "  </thead>\n",
       "  <tbody>\n",
       "    <tr>\n",
       "      <th>0</th>\n",
       "      <td>2021-01-01 00:00:00</td>\n",
       "      <td>248.086380</td>\n",
       "      <td>157.717117</td>\n",
       "      <td>137.979797</td>\n",
       "      <td>83.022705</td>\n",
       "      <td>56.384373</td>\n",
       "      <td>46.626347</td>\n",
       "      <td>75.759476</td>\n",
       "      <td>96.532806</td>\n",
       "      <td>130.647293</td>\n",
       "      <td>...</td>\n",
       "      <td>248.670044</td>\n",
       "      <td>216.596146</td>\n",
       "      <td>242.763474</td>\n",
       "      <td>224.519104</td>\n",
       "      <td>291.127960</td>\n",
       "      <td>318.017059</td>\n",
       "      <td>360.069916</td>\n",
       "      <td>344.086914</td>\n",
       "      <td>325.970520</td>\n",
       "      <td>287.699646</td>\n",
       "    </tr>\n",
       "    <tr>\n",
       "      <th>1</th>\n",
       "      <td>2021-01-01 01:00:00</td>\n",
       "      <td>148.560425</td>\n",
       "      <td>107.937683</td>\n",
       "      <td>106.049713</td>\n",
       "      <td>80.609604</td>\n",
       "      <td>70.252380</td>\n",
       "      <td>66.963333</td>\n",
       "      <td>122.151733</td>\n",
       "      <td>189.971329</td>\n",
       "      <td>238.032578</td>\n",
       "      <td>...</td>\n",
       "      <td>216.403412</td>\n",
       "      <td>201.914307</td>\n",
       "      <td>221.686722</td>\n",
       "      <td>232.306610</td>\n",
       "      <td>332.036469</td>\n",
       "      <td>388.967682</td>\n",
       "      <td>395.430817</td>\n",
       "      <td>301.884155</td>\n",
       "      <td>284.771637</td>\n",
       "      <td>202.632889</td>\n",
       "    </tr>\n",
       "    <tr>\n",
       "      <th>2</th>\n",
       "      <td>2021-01-01 02:00:00</td>\n",
       "      <td>87.910294</td>\n",
       "      <td>76.233856</td>\n",
       "      <td>74.257721</td>\n",
       "      <td>61.211796</td>\n",
       "      <td>73.407043</td>\n",
       "      <td>93.417419</td>\n",
       "      <td>156.704178</td>\n",
       "      <td>246.129349</td>\n",
       "      <td>262.026001</td>\n",
       "      <td>...</td>\n",
       "      <td>219.352737</td>\n",
       "      <td>229.471146</td>\n",
       "      <td>264.383118</td>\n",
       "      <td>322.459900</td>\n",
       "      <td>402.612244</td>\n",
       "      <td>417.716949</td>\n",
       "      <td>334.983643</td>\n",
       "      <td>235.858276</td>\n",
       "      <td>211.505966</td>\n",
       "      <td>137.277115</td>\n",
       "    </tr>\n",
       "    <tr>\n",
       "      <th>3</th>\n",
       "      <td>2021-01-01 03:00:00</td>\n",
       "      <td>101.527664</td>\n",
       "      <td>58.718357</td>\n",
       "      <td>72.085129</td>\n",
       "      <td>82.109467</td>\n",
       "      <td>129.346725</td>\n",
       "      <td>193.124863</td>\n",
       "      <td>259.366577</td>\n",
       "      <td>290.619659</td>\n",
       "      <td>288.841187</td>\n",
       "      <td>...</td>\n",
       "      <td>233.093109</td>\n",
       "      <td>280.759430</td>\n",
       "      <td>315.849915</td>\n",
       "      <td>365.046539</td>\n",
       "      <td>421.485321</td>\n",
       "      <td>381.462555</td>\n",
       "      <td>267.655121</td>\n",
       "      <td>181.160614</td>\n",
       "      <td>154.509781</td>\n",
       "      <td>103.966995</td>\n",
       "    </tr>\n",
       "    <tr>\n",
       "      <th>4</th>\n",
       "      <td>2021-01-01 04:00:00</td>\n",
       "      <td>67.334152</td>\n",
       "      <td>49.586613</td>\n",
       "      <td>85.616592</td>\n",
       "      <td>148.067642</td>\n",
       "      <td>231.308243</td>\n",
       "      <td>326.084412</td>\n",
       "      <td>341.685455</td>\n",
       "      <td>345.998962</td>\n",
       "      <td>307.809357</td>\n",
       "      <td>...</td>\n",
       "      <td>268.685394</td>\n",
       "      <td>341.475128</td>\n",
       "      <td>363.813385</td>\n",
       "      <td>371.623260</td>\n",
       "      <td>384.360077</td>\n",
       "      <td>293.048157</td>\n",
       "      <td>193.825958</td>\n",
       "      <td>120.927109</td>\n",
       "      <td>107.071320</td>\n",
       "      <td>67.663071</td>\n",
       "    </tr>\n",
       "    <tr>\n",
       "      <th>...</th>\n",
       "      <td>...</td>\n",
       "      <td>...</td>\n",
       "      <td>...</td>\n",
       "      <td>...</td>\n",
       "      <td>...</td>\n",
       "      <td>...</td>\n",
       "      <td>...</td>\n",
       "      <td>...</td>\n",
       "      <td>...</td>\n",
       "      <td>...</td>\n",
       "      <td>...</td>\n",
       "      <td>...</td>\n",
       "      <td>...</td>\n",
       "      <td>...</td>\n",
       "      <td>...</td>\n",
       "      <td>...</td>\n",
       "      <td>...</td>\n",
       "      <td>...</td>\n",
       "      <td>...</td>\n",
       "      <td>...</td>\n",
       "      <td>...</td>\n",
       "    </tr>\n",
       "    <tr>\n",
       "      <th>8420</th>\n",
       "      <td>2021-12-17 20:00:00</td>\n",
       "      <td>424.300995</td>\n",
       "      <td>361.250122</td>\n",
       "      <td>285.338135</td>\n",
       "      <td>270.870392</td>\n",
       "      <td>210.857025</td>\n",
       "      <td>137.543472</td>\n",
       "      <td>48.062061</td>\n",
       "      <td>24.071720</td>\n",
       "      <td>24.619556</td>\n",
       "      <td>...</td>\n",
       "      <td>326.633942</td>\n",
       "      <td>291.246887</td>\n",
       "      <td>288.773590</td>\n",
       "      <td>282.363953</td>\n",
       "      <td>259.451019</td>\n",
       "      <td>228.915497</td>\n",
       "      <td>202.791382</td>\n",
       "      <td>240.482773</td>\n",
       "      <td>287.874451</td>\n",
       "      <td>380.736023</td>\n",
       "    </tr>\n",
       "    <tr>\n",
       "      <th>8421</th>\n",
       "      <td>2021-12-17 21:00:00</td>\n",
       "      <td>372.631134</td>\n",
       "      <td>294.526093</td>\n",
       "      <td>253.612991</td>\n",
       "      <td>215.586563</td>\n",
       "      <td>158.968216</td>\n",
       "      <td>77.416901</td>\n",
       "      <td>25.230183</td>\n",
       "      <td>25.125889</td>\n",
       "      <td>6.314091</td>\n",
       "      <td>...</td>\n",
       "      <td>342.973785</td>\n",
       "      <td>307.673889</td>\n",
       "      <td>276.383850</td>\n",
       "      <td>268.949127</td>\n",
       "      <td>254.403732</td>\n",
       "      <td>218.719437</td>\n",
       "      <td>255.891235</td>\n",
       "      <td>293.494995</td>\n",
       "      <td>376.182312</td>\n",
       "      <td>419.040833</td>\n",
       "    </tr>\n",
       "    <tr>\n",
       "      <th>8422</th>\n",
       "      <td>2021-12-17 22:00:00</td>\n",
       "      <td>306.103302</td>\n",
       "      <td>261.803101</td>\n",
       "      <td>192.138428</td>\n",
       "      <td>120.494804</td>\n",
       "      <td>48.919422</td>\n",
       "      <td>33.788425</td>\n",
       "      <td>8.796635</td>\n",
       "      <td>26.082783</td>\n",
       "      <td>3.666507</td>\n",
       "      <td>...</td>\n",
       "      <td>313.631378</td>\n",
       "      <td>288.637939</td>\n",
       "      <td>269.017181</td>\n",
       "      <td>238.090683</td>\n",
       "      <td>258.004181</td>\n",
       "      <td>237.506500</td>\n",
       "      <td>309.198578</td>\n",
       "      <td>347.190277</td>\n",
       "      <td>402.747955</td>\n",
       "      <td>355.162445</td>\n",
       "    </tr>\n",
       "    <tr>\n",
       "      <th>8423</th>\n",
       "      <td>2021-12-17 23:00:00</td>\n",
       "      <td>263.920013</td>\n",
       "      <td>222.509857</td>\n",
       "      <td>133.350510</td>\n",
       "      <td>72.699646</td>\n",
       "      <td>31.999989</td>\n",
       "      <td>16.504475</td>\n",
       "      <td>31.222462</td>\n",
       "      <td>34.390156</td>\n",
       "      <td>21.245472</td>\n",
       "      <td>...</td>\n",
       "      <td>278.107361</td>\n",
       "      <td>296.806000</td>\n",
       "      <td>274.479126</td>\n",
       "      <td>227.938629</td>\n",
       "      <td>274.349457</td>\n",
       "      <td>308.424683</td>\n",
       "      <td>372.761353</td>\n",
       "      <td>378.519104</td>\n",
       "      <td>398.400208</td>\n",
       "      <td>312.016876</td>\n",
       "    </tr>\n",
       "    <tr>\n",
       "      <th>8424</th>\n",
       "      <td>2021-12-18 00:00:00</td>\n",
       "      <td>211.768372</td>\n",
       "      <td>145.597763</td>\n",
       "      <td>116.574509</td>\n",
       "      <td>24.948689</td>\n",
       "      <td>32.764301</td>\n",
       "      <td>-4.955669</td>\n",
       "      <td>15.764072</td>\n",
       "      <td>27.673893</td>\n",
       "      <td>95.401215</td>\n",
       "      <td>...</td>\n",
       "      <td>229.511505</td>\n",
       "      <td>261.542358</td>\n",
       "      <td>257.940094</td>\n",
       "      <td>255.113373</td>\n",
       "      <td>305.642700</td>\n",
       "      <td>399.156677</td>\n",
       "      <td>393.326202</td>\n",
       "      <td>314.923401</td>\n",
       "      <td>303.382477</td>\n",
       "      <td>252.296936</td>\n",
       "    </tr>\n",
       "  </tbody>\n",
       "</table>\n",
       "<p>8425 rows × 337 columns</p>\n",
       "</div>"
      ],
      "text/plain": [
       "                 datetime          h0          h1          h2          h3  \\\n",
       "0     2021-01-01 00:00:00  248.086380  157.717117  137.979797   83.022705   \n",
       "1     2021-01-01 01:00:00  148.560425  107.937683  106.049713   80.609604   \n",
       "2     2021-01-01 02:00:00   87.910294   76.233856   74.257721   61.211796   \n",
       "3     2021-01-01 03:00:00  101.527664   58.718357   72.085129   82.109467   \n",
       "4     2021-01-01 04:00:00   67.334152   49.586613   85.616592  148.067642   \n",
       "...                   ...         ...         ...         ...         ...   \n",
       "8420  2021-12-17 20:00:00  424.300995  361.250122  285.338135  270.870392   \n",
       "8421  2021-12-17 21:00:00  372.631134  294.526093  253.612991  215.586563   \n",
       "8422  2021-12-17 22:00:00  306.103302  261.803101  192.138428  120.494804   \n",
       "8423  2021-12-17 23:00:00  263.920013  222.509857  133.350510   72.699646   \n",
       "8424  2021-12-18 00:00:00  211.768372  145.597763  116.574509   24.948689   \n",
       "\n",
       "              h4          h5          h6          h7          h8  ...  \\\n",
       "0      56.384373   46.626347   75.759476   96.532806  130.647293  ...   \n",
       "1      70.252380   66.963333  122.151733  189.971329  238.032578  ...   \n",
       "2      73.407043   93.417419  156.704178  246.129349  262.026001  ...   \n",
       "3     129.346725  193.124863  259.366577  290.619659  288.841187  ...   \n",
       "4     231.308243  326.084412  341.685455  345.998962  307.809357  ...   \n",
       "...          ...         ...         ...         ...         ...  ...   \n",
       "8420  210.857025  137.543472   48.062061   24.071720   24.619556  ...   \n",
       "8421  158.968216   77.416901   25.230183   25.125889    6.314091  ...   \n",
       "8422   48.919422   33.788425    8.796635   26.082783    3.666507  ...   \n",
       "8423   31.999989   16.504475   31.222462   34.390156   21.245472  ...   \n",
       "8424   32.764301   -4.955669   15.764072   27.673893   95.401215  ...   \n",
       "\n",
       "            h326        h327        h328        h329        h330        h331  \\\n",
       "0     248.670044  216.596146  242.763474  224.519104  291.127960  318.017059   \n",
       "1     216.403412  201.914307  221.686722  232.306610  332.036469  388.967682   \n",
       "2     219.352737  229.471146  264.383118  322.459900  402.612244  417.716949   \n",
       "3     233.093109  280.759430  315.849915  365.046539  421.485321  381.462555   \n",
       "4     268.685394  341.475128  363.813385  371.623260  384.360077  293.048157   \n",
       "...          ...         ...         ...         ...         ...         ...   \n",
       "8420  326.633942  291.246887  288.773590  282.363953  259.451019  228.915497   \n",
       "8421  342.973785  307.673889  276.383850  268.949127  254.403732  218.719437   \n",
       "8422  313.631378  288.637939  269.017181  238.090683  258.004181  237.506500   \n",
       "8423  278.107361  296.806000  274.479126  227.938629  274.349457  308.424683   \n",
       "8424  229.511505  261.542358  257.940094  255.113373  305.642700  399.156677   \n",
       "\n",
       "            h332        h333        h334        h335  \n",
       "0     360.069916  344.086914  325.970520  287.699646  \n",
       "1     395.430817  301.884155  284.771637  202.632889  \n",
       "2     334.983643  235.858276  211.505966  137.277115  \n",
       "3     267.655121  181.160614  154.509781  103.966995  \n",
       "4     193.825958  120.927109  107.071320   67.663071  \n",
       "...          ...         ...         ...         ...  \n",
       "8420  202.791382  240.482773  287.874451  380.736023  \n",
       "8421  255.891235  293.494995  376.182312  419.040833  \n",
       "8422  309.198578  347.190277  402.747955  355.162445  \n",
       "8423  372.761353  378.519104  398.400208  312.016876  \n",
       "8424  393.326202  314.923401  303.382477  252.296936  \n",
       "\n",
       "[8425 rows x 337 columns]"
      ]
     },
     "execution_count": 244,
     "metadata": {},
     "output_type": "execute_result"
    }
   ],
   "source": [
    "sample = pd.read_csv('sample_city.csv')\n",
    "sample.iloc[:, 1:] = predict.reshape((-1, 336))\n",
    "sample"
   ]
  },
  {
   "cell_type": "code",
   "execution_count": 247,
   "metadata": {
    "collapsed": false
   },
   "outputs": [],
   "source": [
    "sample.to_csv('submit_task1.csv', index = False)"
   ]
  },
  {
   "cell_type": "code",
   "execution_count": null,
   "metadata": {
    "collapsed": false
   },
   "outputs": [],
   "source": []
  }
 ],
 "metadata": {
  "kernelspec": {
   "display_name": "Python 3.9.0 ('assign')",
   "language": "python",
   "name": "python3"
  },
  "language_info": {
   "codemirror_mode": {
    "name": "ipython",
    "version": 3
   },
   "file_extension": ".py",
   "mimetype": "text/x-python",
   "name": "python",
   "nbconvert_exporter": "python",
   "pygments_lexer": "ipython3",
   "version": "3.9.0"
  },
  "orig_nbformat": 4,
  "vscode": {
   "interpreter": {
    "hash": "4deafe384098895585bc1cf4c0fbe602a0808cd81ad61b0b228a86c01a9c3532"
   }
  }
 },
 "nbformat": 4,
 "nbformat_minor": 2
}
